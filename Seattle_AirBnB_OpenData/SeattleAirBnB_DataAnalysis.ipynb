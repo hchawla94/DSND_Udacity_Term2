{
 "cells": [
  {
   "cell_type": "markdown",
   "metadata": {},
   "source": [
    "# Seattle AirBnB Data Analysis"
   ]
  },
  {
   "cell_type": "markdown",
   "metadata": {},
   "source": [
    "*This notebook captures the data analysis of AirBnB activity in Seattle using data released as a part of AirBnB Inside Initiative. The results of the analyis are also captured in a Medium blog here: https://medium.com/@hchawla94/seattle-airbnb-data-analysis-a47920dfc5b5*"
   ]
  },
  {
   "cell_type": "markdown",
   "metadata": {},
   "source": [
    "### Business Understanding"
   ]
  },
  {
   "cell_type": "markdown",
   "metadata": {},
   "source": [
    "Since 2008, guests and hosts have used Airbnb to travel in a more unique, personalized way. As part of the Airbnb Inside initiative, the dataset used here describes the listing activity of homestays in Seattle, WA.\n",
    "\n",
    "As part of this project, I would be investigating the below questions in relation to the data:\n",
    "\n",
    "- **Q1: What are the busiest times of the year to visit Seattle? By how much do prices spike?**\n",
    "- **Q2: Which are the most popular neigborhoods? Can these neighborhoods be described using the data available?**\n",
    "- **Q3: Can we use listing details to predict listing price? If yes, which information is the most significant predictor?**\n"
   ]
  },
  {
   "cell_type": "markdown",
   "metadata": {},
   "source": [
    "### Data Understanding"
   ]
  },
  {
   "cell_type": "markdown",
   "metadata": {},
   "source": [
    "The following Airbnb activity is included in the Seattle dataset used here:\n",
    " * Listings, including full descriptions and average review score \n",
    " * Reviews, including unique id for each reviewer and detailed comments \n",
    " * Calendar, including listing id and the price and availability for that day"
   ]
  },
  {
   "cell_type": "code",
   "execution_count": 1,
   "metadata": {},
   "outputs": [
    {
     "name": "stderr",
     "output_type": "stream",
     "text": [
      "[nltk_data] Downloading package punkt to\n",
      "[nltk_data]     C:\\Users\\Hardik\\AppData\\Roaming\\nltk_data...\n",
      "[nltk_data]   Package punkt is already up-to-date!\n"
     ]
    }
   ],
   "source": [
    "# Import libraries\n",
    "\n",
    "import nltk\n",
    "nltk.download('punkt')\n",
    "import pandas as pd\n",
    "pd.set_option('display.max_columns', 500)\n",
    "import matplotlib.pyplot as plt\n",
    "import numpy as np\n",
    "%matplotlib inline\n",
    "import seaborn as sns\n",
    "import re\n",
    "\n",
    "from sklearn.metrics import r2_score\n",
    "from sklearn.ensemble import GradientBoostingRegressor\n",
    "from sklearn.preprocessing import StandardScaler\n",
    "from sklearn.pipeline import Pipeline\n",
    "from nltk.tokenize import word_tokenize\n",
    "from sklearn.feature_extraction.text import TfidfVectorizer\n",
    "from sklearn.metrics import mean_squared_error\n",
    "from sklearn.model_selection import cross_val_score, GridSearchCV, KFold, RandomizedSearchCV, train_test_split\n",
    "from statsmodels.stats.outliers_influence import variance_inflation_factor  \n",
    "\n",
    "import warnings\n",
    "warnings.filterwarnings('ignore')"
   ]
  },
  {
   "cell_type": "code",
   "execution_count": 2,
   "metadata": {},
   "outputs": [
    {
     "name": "stdout",
     "output_type": "stream",
     "text": [
      "#Rows, #columns in Seattle Listing: \t (3818, 92)\n",
      "#Rows, #columns in Seattle Calendar: \t (1393570, 4)\n",
      "#Rows, #columns in Seattle Review: \t (84849, 6)\n",
      "#Unique Listing IDs in Seattle Listing: \t 3818\n",
      "#Unique Listing IDs in Seattle Calendar: \t 3818\n",
      "#Unique Listing IDs in Seattle Review: \t 3191\n",
      "\n",
      "Check overlap of Listing IDs in Listing and Calendar df: \n",
      " True    3818\n",
      "Name: id, dtype: int64\n",
      "Check overlap of Listing IDs in Listing and Review df: \n",
      " True     3191\n",
      "False     627\n",
      "Name: id, dtype: int64\n"
     ]
    }
   ],
   "source": [
    "# Load data\n",
    "seattle_calendar = pd.read_csv('data/calendar.csv')\n",
    "seattle_listing = pd.read_csv('data/listings.csv')\n",
    "seattle_review = pd.read_csv('data/reviews.csv')\n",
    "\n",
    "# Check data shapes and counts\n",
    "print(\"#Rows, #columns in Seattle Listing: \\t\", seattle_listing.shape)\n",
    "print(\"#Rows, #columns in Seattle Calendar: \\t\", seattle_calendar.shape)\n",
    "print(\"#Rows, #columns in Seattle Review: \\t\", seattle_review.shape)\n",
    "\n",
    "print(\"#Unique Listing IDs in Seattle Listing: \\t\", seattle_listing.id.nunique())\n",
    "print(\"#Unique Listing IDs in Seattle Calendar: \\t\", seattle_calendar.listing_id.nunique())\n",
    "print(\"#Unique Listing IDs in Seattle Review: \\t\", seattle_review.listing_id.nunique())\n",
    "\n",
    "print(\"\\nCheck overlap of Listing IDs in Listing and Calendar df: \\n\", seattle_listing['id'].isin(seattle_calendar['listing_id']).value_counts())\n",
    "print(\"Check overlap of Listing IDs in Listing and Review df: \\n\", seattle_listing['id'].isin(seattle_review['listing_id']).value_counts())"
   ]
  },
  {
   "cell_type": "code",
   "execution_count": 3,
   "metadata": {},
   "outputs": [
    {
     "data": {
      "text/html": [
       "<div>\n",
       "<style scoped>\n",
       "    .dataframe tbody tr th:only-of-type {\n",
       "        vertical-align: middle;\n",
       "    }\n",
       "\n",
       "    .dataframe tbody tr th {\n",
       "        vertical-align: top;\n",
       "    }\n",
       "\n",
       "    .dataframe thead th {\n",
       "        text-align: right;\n",
       "    }\n",
       "</style>\n",
       "<table border=\"1\" class=\"dataframe\">\n",
       "  <thead>\n",
       "    <tr style=\"text-align: right;\">\n",
       "      <th></th>\n",
       "      <th>id</th>\n",
       "      <th>listing_url</th>\n",
       "      <th>scrape_id</th>\n",
       "      <th>last_scraped</th>\n",
       "      <th>name</th>\n",
       "      <th>summary</th>\n",
       "      <th>space</th>\n",
       "      <th>description</th>\n",
       "      <th>experiences_offered</th>\n",
       "      <th>neighborhood_overview</th>\n",
       "      <th>notes</th>\n",
       "      <th>transit</th>\n",
       "      <th>thumbnail_url</th>\n",
       "      <th>medium_url</th>\n",
       "      <th>picture_url</th>\n",
       "      <th>xl_picture_url</th>\n",
       "      <th>host_id</th>\n",
       "      <th>host_url</th>\n",
       "      <th>host_name</th>\n",
       "      <th>host_since</th>\n",
       "      <th>host_location</th>\n",
       "      <th>host_about</th>\n",
       "      <th>host_response_time</th>\n",
       "      <th>host_response_rate</th>\n",
       "      <th>host_acceptance_rate</th>\n",
       "      <th>host_is_superhost</th>\n",
       "      <th>host_thumbnail_url</th>\n",
       "      <th>host_picture_url</th>\n",
       "      <th>host_neighbourhood</th>\n",
       "      <th>host_listings_count</th>\n",
       "      <th>host_total_listings_count</th>\n",
       "      <th>host_verifications</th>\n",
       "      <th>host_has_profile_pic</th>\n",
       "      <th>host_identity_verified</th>\n",
       "      <th>street</th>\n",
       "      <th>neighbourhood</th>\n",
       "      <th>neighbourhood_cleansed</th>\n",
       "      <th>neighbourhood_group_cleansed</th>\n",
       "      <th>city</th>\n",
       "      <th>state</th>\n",
       "      <th>zipcode</th>\n",
       "      <th>market</th>\n",
       "      <th>smart_location</th>\n",
       "      <th>country_code</th>\n",
       "      <th>country</th>\n",
       "      <th>latitude</th>\n",
       "      <th>longitude</th>\n",
       "      <th>is_location_exact</th>\n",
       "      <th>property_type</th>\n",
       "      <th>room_type</th>\n",
       "      <th>accommodates</th>\n",
       "      <th>bathrooms</th>\n",
       "      <th>bedrooms</th>\n",
       "      <th>beds</th>\n",
       "      <th>bed_type</th>\n",
       "      <th>amenities</th>\n",
       "      <th>square_feet</th>\n",
       "      <th>price</th>\n",
       "      <th>weekly_price</th>\n",
       "      <th>monthly_price</th>\n",
       "      <th>security_deposit</th>\n",
       "      <th>cleaning_fee</th>\n",
       "      <th>guests_included</th>\n",
       "      <th>extra_people</th>\n",
       "      <th>minimum_nights</th>\n",
       "      <th>maximum_nights</th>\n",
       "      <th>calendar_updated</th>\n",
       "      <th>has_availability</th>\n",
       "      <th>availability_30</th>\n",
       "      <th>availability_60</th>\n",
       "      <th>availability_90</th>\n",
       "      <th>availability_365</th>\n",
       "      <th>calendar_last_scraped</th>\n",
       "      <th>number_of_reviews</th>\n",
       "      <th>first_review</th>\n",
       "      <th>last_review</th>\n",
       "      <th>review_scores_rating</th>\n",
       "      <th>review_scores_accuracy</th>\n",
       "      <th>review_scores_cleanliness</th>\n",
       "      <th>review_scores_checkin</th>\n",
       "      <th>review_scores_communication</th>\n",
       "      <th>review_scores_location</th>\n",
       "      <th>review_scores_value</th>\n",
       "      <th>requires_license</th>\n",
       "      <th>license</th>\n",
       "      <th>jurisdiction_names</th>\n",
       "      <th>instant_bookable</th>\n",
       "      <th>cancellation_policy</th>\n",
       "      <th>require_guest_profile_picture</th>\n",
       "      <th>require_guest_phone_verification</th>\n",
       "      <th>calculated_host_listings_count</th>\n",
       "      <th>reviews_per_month</th>\n",
       "    </tr>\n",
       "  </thead>\n",
       "  <tbody>\n",
       "    <tr>\n",
       "      <th>0</th>\n",
       "      <td>241032</td>\n",
       "      <td>https://www.airbnb.com/rooms/241032</td>\n",
       "      <td>20160104002432</td>\n",
       "      <td>2016-01-04</td>\n",
       "      <td>Stylish Queen Anne Apartment</td>\n",
       "      <td>NaN</td>\n",
       "      <td>Make your self at home in this charming one-be...</td>\n",
       "      <td>Make your self at home in this charming one-be...</td>\n",
       "      <td>none</td>\n",
       "      <td>NaN</td>\n",
       "      <td>NaN</td>\n",
       "      <td>NaN</td>\n",
       "      <td>NaN</td>\n",
       "      <td>NaN</td>\n",
       "      <td>https://a1.muscache.com/ac/pictures/67560560/c...</td>\n",
       "      <td>NaN</td>\n",
       "      <td>956883</td>\n",
       "      <td>https://www.airbnb.com/users/show/956883</td>\n",
       "      <td>Maija</td>\n",
       "      <td>2011-08-11</td>\n",
       "      <td>Seattle, Washington, United States</td>\n",
       "      <td>I am an artist, interior designer, and run a s...</td>\n",
       "      <td>within a few hours</td>\n",
       "      <td>96%</td>\n",
       "      <td>100%</td>\n",
       "      <td>f</td>\n",
       "      <td>https://a0.muscache.com/ac/users/956883/profil...</td>\n",
       "      <td>https://a0.muscache.com/ac/users/956883/profil...</td>\n",
       "      <td>Queen Anne</td>\n",
       "      <td>3.0</td>\n",
       "      <td>3.0</td>\n",
       "      <td>['email', 'phone', 'reviews', 'kba']</td>\n",
       "      <td>t</td>\n",
       "      <td>t</td>\n",
       "      <td>Gilman Dr W, Seattle, WA 98119, United States</td>\n",
       "      <td>Queen Anne</td>\n",
       "      <td>West Queen Anne</td>\n",
       "      <td>Queen Anne</td>\n",
       "      <td>Seattle</td>\n",
       "      <td>WA</td>\n",
       "      <td>98119</td>\n",
       "      <td>Seattle</td>\n",
       "      <td>Seattle, WA</td>\n",
       "      <td>US</td>\n",
       "      <td>United States</td>\n",
       "      <td>47.636289</td>\n",
       "      <td>-122.371025</td>\n",
       "      <td>t</td>\n",
       "      <td>Apartment</td>\n",
       "      <td>Entire home/apt</td>\n",
       "      <td>4</td>\n",
       "      <td>1.0</td>\n",
       "      <td>1.0</td>\n",
       "      <td>1.0</td>\n",
       "      <td>Real Bed</td>\n",
       "      <td>{TV,\"Cable TV\",Internet,\"Wireless Internet\",\"A...</td>\n",
       "      <td>NaN</td>\n",
       "      <td>$85.00</td>\n",
       "      <td>NaN</td>\n",
       "      <td>NaN</td>\n",
       "      <td>NaN</td>\n",
       "      <td>NaN</td>\n",
       "      <td>2</td>\n",
       "      <td>$5.00</td>\n",
       "      <td>1</td>\n",
       "      <td>365</td>\n",
       "      <td>4 weeks ago</td>\n",
       "      <td>t</td>\n",
       "      <td>14</td>\n",
       "      <td>41</td>\n",
       "      <td>71</td>\n",
       "      <td>346</td>\n",
       "      <td>2016-01-04</td>\n",
       "      <td>207</td>\n",
       "      <td>2011-11-01</td>\n",
       "      <td>2016-01-02</td>\n",
       "      <td>95.0</td>\n",
       "      <td>10.0</td>\n",
       "      <td>10.0</td>\n",
       "      <td>10.0</td>\n",
       "      <td>10.0</td>\n",
       "      <td>9.0</td>\n",
       "      <td>10.0</td>\n",
       "      <td>f</td>\n",
       "      <td>NaN</td>\n",
       "      <td>WASHINGTON</td>\n",
       "      <td>f</td>\n",
       "      <td>moderate</td>\n",
       "      <td>f</td>\n",
       "      <td>f</td>\n",
       "      <td>2</td>\n",
       "      <td>4.07</td>\n",
       "    </tr>\n",
       "    <tr>\n",
       "      <th>1</th>\n",
       "      <td>953595</td>\n",
       "      <td>https://www.airbnb.com/rooms/953595</td>\n",
       "      <td>20160104002432</td>\n",
       "      <td>2016-01-04</td>\n",
       "      <td>Bright &amp; Airy Queen Anne Apartment</td>\n",
       "      <td>Chemically sensitive? We've removed the irrita...</td>\n",
       "      <td>Beautiful, hypoallergenic apartment in an extr...</td>\n",
       "      <td>Chemically sensitive? We've removed the irrita...</td>\n",
       "      <td>none</td>\n",
       "      <td>Queen Anne is a wonderful, truly functional vi...</td>\n",
       "      <td>What's up with the free pillows?  Our home was...</td>\n",
       "      <td>Convenient bus stops are just down the block, ...</td>\n",
       "      <td>https://a0.muscache.com/ac/pictures/14409893/f...</td>\n",
       "      <td>https://a0.muscache.com/im/pictures/14409893/f...</td>\n",
       "      <td>https://a0.muscache.com/ac/pictures/14409893/f...</td>\n",
       "      <td>https://a0.muscache.com/ac/pictures/14409893/f...</td>\n",
       "      <td>5177328</td>\n",
       "      <td>https://www.airbnb.com/users/show/5177328</td>\n",
       "      <td>Andrea</td>\n",
       "      <td>2013-02-21</td>\n",
       "      <td>Seattle, Washington, United States</td>\n",
       "      <td>Living east coast/left coast/overseas.  Time i...</td>\n",
       "      <td>within an hour</td>\n",
       "      <td>98%</td>\n",
       "      <td>100%</td>\n",
       "      <td>t</td>\n",
       "      <td>https://a0.muscache.com/ac/users/5177328/profi...</td>\n",
       "      <td>https://a0.muscache.com/ac/users/5177328/profi...</td>\n",
       "      <td>Queen Anne</td>\n",
       "      <td>6.0</td>\n",
       "      <td>6.0</td>\n",
       "      <td>['email', 'phone', 'facebook', 'linkedin', 're...</td>\n",
       "      <td>t</td>\n",
       "      <td>t</td>\n",
       "      <td>7th Avenue West, Seattle, WA 98119, United States</td>\n",
       "      <td>Queen Anne</td>\n",
       "      <td>West Queen Anne</td>\n",
       "      <td>Queen Anne</td>\n",
       "      <td>Seattle</td>\n",
       "      <td>WA</td>\n",
       "      <td>98119</td>\n",
       "      <td>Seattle</td>\n",
       "      <td>Seattle, WA</td>\n",
       "      <td>US</td>\n",
       "      <td>United States</td>\n",
       "      <td>47.639123</td>\n",
       "      <td>-122.365666</td>\n",
       "      <td>t</td>\n",
       "      <td>Apartment</td>\n",
       "      <td>Entire home/apt</td>\n",
       "      <td>4</td>\n",
       "      <td>1.0</td>\n",
       "      <td>1.0</td>\n",
       "      <td>1.0</td>\n",
       "      <td>Real Bed</td>\n",
       "      <td>{TV,Internet,\"Wireless Internet\",Kitchen,\"Free...</td>\n",
       "      <td>NaN</td>\n",
       "      <td>$150.00</td>\n",
       "      <td>$1,000.00</td>\n",
       "      <td>$3,000.00</td>\n",
       "      <td>$100.00</td>\n",
       "      <td>$40.00</td>\n",
       "      <td>1</td>\n",
       "      <td>$0.00</td>\n",
       "      <td>2</td>\n",
       "      <td>90</td>\n",
       "      <td>today</td>\n",
       "      <td>t</td>\n",
       "      <td>13</td>\n",
       "      <td>13</td>\n",
       "      <td>16</td>\n",
       "      <td>291</td>\n",
       "      <td>2016-01-04</td>\n",
       "      <td>43</td>\n",
       "      <td>2013-08-19</td>\n",
       "      <td>2015-12-29</td>\n",
       "      <td>96.0</td>\n",
       "      <td>10.0</td>\n",
       "      <td>10.0</td>\n",
       "      <td>10.0</td>\n",
       "      <td>10.0</td>\n",
       "      <td>10.0</td>\n",
       "      <td>10.0</td>\n",
       "      <td>f</td>\n",
       "      <td>NaN</td>\n",
       "      <td>WASHINGTON</td>\n",
       "      <td>f</td>\n",
       "      <td>strict</td>\n",
       "      <td>t</td>\n",
       "      <td>t</td>\n",
       "      <td>6</td>\n",
       "      <td>1.48</td>\n",
       "    </tr>\n",
       "  </tbody>\n",
       "</table>\n",
       "</div>"
      ],
      "text/plain": [
       "       id                          listing_url       scrape_id last_scraped  \\\n",
       "0  241032  https://www.airbnb.com/rooms/241032  20160104002432   2016-01-04   \n",
       "1  953595  https://www.airbnb.com/rooms/953595  20160104002432   2016-01-04   \n",
       "\n",
       "                                 name  \\\n",
       "0        Stylish Queen Anne Apartment   \n",
       "1  Bright & Airy Queen Anne Apartment   \n",
       "\n",
       "                                             summary  \\\n",
       "0                                                NaN   \n",
       "1  Chemically sensitive? We've removed the irrita...   \n",
       "\n",
       "                                               space  \\\n",
       "0  Make your self at home in this charming one-be...   \n",
       "1  Beautiful, hypoallergenic apartment in an extr...   \n",
       "\n",
       "                                         description experiences_offered  \\\n",
       "0  Make your self at home in this charming one-be...                none   \n",
       "1  Chemically sensitive? We've removed the irrita...                none   \n",
       "\n",
       "                               neighborhood_overview  \\\n",
       "0                                                NaN   \n",
       "1  Queen Anne is a wonderful, truly functional vi...   \n",
       "\n",
       "                                               notes  \\\n",
       "0                                                NaN   \n",
       "1  What's up with the free pillows?  Our home was...   \n",
       "\n",
       "                                             transit  \\\n",
       "0                                                NaN   \n",
       "1  Convenient bus stops are just down the block, ...   \n",
       "\n",
       "                                       thumbnail_url  \\\n",
       "0                                                NaN   \n",
       "1  https://a0.muscache.com/ac/pictures/14409893/f...   \n",
       "\n",
       "                                          medium_url  \\\n",
       "0                                                NaN   \n",
       "1  https://a0.muscache.com/im/pictures/14409893/f...   \n",
       "\n",
       "                                         picture_url  \\\n",
       "0  https://a1.muscache.com/ac/pictures/67560560/c...   \n",
       "1  https://a0.muscache.com/ac/pictures/14409893/f...   \n",
       "\n",
       "                                      xl_picture_url  host_id  \\\n",
       "0                                                NaN   956883   \n",
       "1  https://a0.muscache.com/ac/pictures/14409893/f...  5177328   \n",
       "\n",
       "                                    host_url host_name  host_since  \\\n",
       "0   https://www.airbnb.com/users/show/956883     Maija  2011-08-11   \n",
       "1  https://www.airbnb.com/users/show/5177328    Andrea  2013-02-21   \n",
       "\n",
       "                        host_location  \\\n",
       "0  Seattle, Washington, United States   \n",
       "1  Seattle, Washington, United States   \n",
       "\n",
       "                                          host_about  host_response_time  \\\n",
       "0  I am an artist, interior designer, and run a s...  within a few hours   \n",
       "1  Living east coast/left coast/overseas.  Time i...      within an hour   \n",
       "\n",
       "  host_response_rate host_acceptance_rate host_is_superhost  \\\n",
       "0                96%                 100%                 f   \n",
       "1                98%                 100%                 t   \n",
       "\n",
       "                                  host_thumbnail_url  \\\n",
       "0  https://a0.muscache.com/ac/users/956883/profil...   \n",
       "1  https://a0.muscache.com/ac/users/5177328/profi...   \n",
       "\n",
       "                                    host_picture_url host_neighbourhood  \\\n",
       "0  https://a0.muscache.com/ac/users/956883/profil...         Queen Anne   \n",
       "1  https://a0.muscache.com/ac/users/5177328/profi...         Queen Anne   \n",
       "\n",
       "   host_listings_count  host_total_listings_count  \\\n",
       "0                  3.0                        3.0   \n",
       "1                  6.0                        6.0   \n",
       "\n",
       "                                  host_verifications host_has_profile_pic  \\\n",
       "0               ['email', 'phone', 'reviews', 'kba']                    t   \n",
       "1  ['email', 'phone', 'facebook', 'linkedin', 're...                    t   \n",
       "\n",
       "  host_identity_verified                                             street  \\\n",
       "0                      t      Gilman Dr W, Seattle, WA 98119, United States   \n",
       "1                      t  7th Avenue West, Seattle, WA 98119, United States   \n",
       "\n",
       "  neighbourhood neighbourhood_cleansed neighbourhood_group_cleansed     city  \\\n",
       "0    Queen Anne        West Queen Anne                   Queen Anne  Seattle   \n",
       "1    Queen Anne        West Queen Anne                   Queen Anne  Seattle   \n",
       "\n",
       "  state zipcode   market smart_location country_code        country  \\\n",
       "0    WA   98119  Seattle    Seattle, WA           US  United States   \n",
       "1    WA   98119  Seattle    Seattle, WA           US  United States   \n",
       "\n",
       "    latitude   longitude is_location_exact property_type        room_type  \\\n",
       "0  47.636289 -122.371025                 t     Apartment  Entire home/apt   \n",
       "1  47.639123 -122.365666                 t     Apartment  Entire home/apt   \n",
       "\n",
       "   accommodates  bathrooms  bedrooms  beds  bed_type  \\\n",
       "0             4        1.0       1.0   1.0  Real Bed   \n",
       "1             4        1.0       1.0   1.0  Real Bed   \n",
       "\n",
       "                                           amenities  square_feet    price  \\\n",
       "0  {TV,\"Cable TV\",Internet,\"Wireless Internet\",\"A...          NaN   $85.00   \n",
       "1  {TV,Internet,\"Wireless Internet\",Kitchen,\"Free...          NaN  $150.00   \n",
       "\n",
       "  weekly_price monthly_price security_deposit cleaning_fee  guests_included  \\\n",
       "0          NaN           NaN              NaN          NaN                2   \n",
       "1    $1,000.00     $3,000.00          $100.00       $40.00                1   \n",
       "\n",
       "  extra_people  minimum_nights  maximum_nights calendar_updated  \\\n",
       "0        $5.00               1             365      4 weeks ago   \n",
       "1        $0.00               2              90            today   \n",
       "\n",
       "  has_availability  availability_30  availability_60  availability_90  \\\n",
       "0                t               14               41               71   \n",
       "1                t               13               13               16   \n",
       "\n",
       "   availability_365 calendar_last_scraped  number_of_reviews first_review  \\\n",
       "0               346            2016-01-04                207   2011-11-01   \n",
       "1               291            2016-01-04                 43   2013-08-19   \n",
       "\n",
       "  last_review  review_scores_rating  review_scores_accuracy  \\\n",
       "0  2016-01-02                  95.0                    10.0   \n",
       "1  2015-12-29                  96.0                    10.0   \n",
       "\n",
       "   review_scores_cleanliness  review_scores_checkin  \\\n",
       "0                       10.0                   10.0   \n",
       "1                       10.0                   10.0   \n",
       "\n",
       "   review_scores_communication  review_scores_location  review_scores_value  \\\n",
       "0                         10.0                     9.0                 10.0   \n",
       "1                         10.0                    10.0                 10.0   \n",
       "\n",
       "  requires_license  license jurisdiction_names instant_bookable  \\\n",
       "0                f      NaN         WASHINGTON                f   \n",
       "1                f      NaN         WASHINGTON                f   \n",
       "\n",
       "  cancellation_policy require_guest_profile_picture  \\\n",
       "0            moderate                             f   \n",
       "1              strict                             t   \n",
       "\n",
       "  require_guest_phone_verification  calculated_host_listings_count  \\\n",
       "0                                f                               2   \n",
       "1                                t                               6   \n",
       "\n",
       "   reviews_per_month  \n",
       "0               4.07  \n",
       "1               1.48  "
      ]
     },
     "execution_count": 3,
     "metadata": {},
     "output_type": "execute_result"
    }
   ],
   "source": [
    "# Review of Seattle listing data\n",
    "seattle_listing.head(2)"
   ]
  },
  {
   "cell_type": "code",
   "execution_count": 4,
   "metadata": {},
   "outputs": [
    {
     "name": "stdout",
     "output_type": "stream",
     "text": [
      "2016-01-04    3818\n",
      "Name: last_scraped, dtype: int64 2016-01-04    3818\n",
      "Name: calendar_last_scraped, dtype: int64 none    3818\n",
      "Name: experiences_offered, dtype: int64\n"
     ]
    }
   ],
   "source": [
    "# Check some of the columns which seem to capture constant values\n",
    "print(seattle_listing.last_scraped.value_counts(),\n",
    "      seattle_listing.calendar_last_scraped.value_counts(),\n",
    "      seattle_listing.experiences_offered.value_counts())"
   ]
  },
  {
   "cell_type": "code",
   "execution_count": 5,
   "metadata": {},
   "outputs": [
    {
     "data": {
      "text/plain": [
       "<matplotlib.axes._subplots.AxesSubplot at 0x2980451b9e8>"
      ]
     },
     "execution_count": 5,
     "metadata": {},
     "output_type": "execute_result"
    },
    {
     "data": {
      "image/png": "[encoded data removed]",
      "text/plain": [
       "<Figure size 432x288 with 1 Axes>"
      ]
     },
     "metadata": {
      "needs_background": "light"
     },
     "output_type": "display_data"
    }
   ],
   "source": [
    "# Check for missing values\n",
    "sns.heatmap(seattle_listing.isnull(), cbar=False)"
   ]
  },
  {
   "cell_type": "markdown",
   "metadata": {},
   "source": [
    "**Data Note** (Listing Data): \n",
    "- The data captures information for 3818 listings; however, reviews are captured only for 3191 listings\n",
    "- Price column needs to be cleaned and converted to the correct format\n",
    "- Few columns have a lot of missing values and may need to be dropped from the analysis"
   ]
  },
  {
   "cell_type": "code",
   "execution_count": 6,
   "metadata": {},
   "outputs": [
    {
     "data": {
      "text/html": [
       "<div>\n",
       "<style scoped>\n",
       "    .dataframe tbody tr th:only-of-type {\n",
       "        vertical-align: middle;\n",
       "    }\n",
       "\n",
       "    .dataframe tbody tr th {\n",
       "        vertical-align: top;\n",
       "    }\n",
       "\n",
       "    .dataframe thead th {\n",
       "        text-align: right;\n",
       "    }\n",
       "</style>\n",
       "<table border=\"1\" class=\"dataframe\">\n",
       "  <thead>\n",
       "    <tr style=\"text-align: right;\">\n",
       "      <th></th>\n",
       "      <th>listing_id</th>\n",
       "      <th>date</th>\n",
       "      <th>available</th>\n",
       "      <th>price</th>\n",
       "    </tr>\n",
       "  </thead>\n",
       "  <tbody>\n",
       "    <tr>\n",
       "      <th>0</th>\n",
       "      <td>241032</td>\n",
       "      <td>2016-01-04</td>\n",
       "      <td>t</td>\n",
       "      <td>$85.00</td>\n",
       "    </tr>\n",
       "    <tr>\n",
       "      <th>1</th>\n",
       "      <td>241032</td>\n",
       "      <td>2016-01-05</td>\n",
       "      <td>t</td>\n",
       "      <td>$85.00</td>\n",
       "    </tr>\n",
       "  </tbody>\n",
       "</table>\n",
       "</div>"
      ],
      "text/plain": [
       "   listing_id        date available   price\n",
       "0      241032  2016-01-04         t  $85.00\n",
       "1      241032  2016-01-05         t  $85.00"
      ]
     },
     "execution_count": 6,
     "metadata": {},
     "output_type": "execute_result"
    }
   ],
   "source": [
    "# Review of Seattle Calendar data\n",
    "seattle_calendar.head(2)"
   ]
  },
  {
   "cell_type": "code",
   "execution_count": 7,
   "metadata": {},
   "outputs": [
    {
     "name": "stdout",
     "output_type": "stream",
     "text": [
      "2016-01-04 00:00:00\n",
      "2017-01-02 00:00:00\n"
     ]
    }
   ],
   "source": [
    "# Convert date to datetime format and check date range\n",
    "seattle_calendar['date'] = pd.to_datetime(seattle_calendar['date'])\n",
    "print(seattle_calendar['date'].min())\n",
    "print(seattle_calendar['date'].max())"
   ]
  },
  {
   "cell_type": "code",
   "execution_count": 8,
   "metadata": {},
   "outputs": [
    {
     "data": {
      "text/plain": [
       "0"
      ]
     },
     "execution_count": 8,
     "metadata": {},
     "output_type": "execute_result"
    }
   ],
   "source": [
    "# There are NaNs only for the records for which available != t in calendar data\n",
    "((seattle_calendar['available'] == 't') & (seattle_calendar['price'].isnull())).sum()"
   ]
  },
  {
   "cell_type": "code",
   "execution_count": 9,
   "metadata": {},
   "outputs": [
    {
     "name": "stdout",
     "output_type": "stream",
     "text": [
      "<class 'pandas.core.frame.DataFrame'>\n",
      "RangeIndex: 1393570 entries, 0 to 1393569\n",
      "Data columns (total 1 columns):\n",
      "price    934542 non-null object\n",
      "dtypes: object(1)\n",
      "memory usage: 10.6+ MB\n"
     ]
    }
   ],
   "source": [
    "# Price seems to be as an object presently and hence needs to be converted\n",
    "seattle_calendar[['price']].info()"
   ]
  },
  {
   "cell_type": "markdown",
   "metadata": {},
   "source": [
    "**Data Note** (Calendar Data): \n",
    "- Captures data from 2016-01-04 to 2017-01-02\n",
    "- In case a listing is not available the price captured against it is NaN\n",
    "- Date is in string format and needs to be converted for analysis"
   ]
  },
  {
   "cell_type": "code",
   "execution_count": 10,
   "metadata": {},
   "outputs": [
    {
     "data": {
      "text/html": [
       "<div>\n",
       "<style scoped>\n",
       "    .dataframe tbody tr th:only-of-type {\n",
       "        vertical-align: middle;\n",
       "    }\n",
       "\n",
       "    .dataframe tbody tr th {\n",
       "        vertical-align: top;\n",
       "    }\n",
       "\n",
       "    .dataframe thead th {\n",
       "        text-align: right;\n",
       "    }\n",
       "</style>\n",
       "<table border=\"1\" class=\"dataframe\">\n",
       "  <thead>\n",
       "    <tr style=\"text-align: right;\">\n",
       "      <th></th>\n",
       "      <th>listing_id</th>\n",
       "      <th>id</th>\n",
       "      <th>date</th>\n",
       "      <th>reviewer_id</th>\n",
       "      <th>reviewer_name</th>\n",
       "      <th>comments</th>\n",
       "    </tr>\n",
       "  </thead>\n",
       "  <tbody>\n",
       "    <tr>\n",
       "      <th>0</th>\n",
       "      <td>7202016</td>\n",
       "      <td>38917982</td>\n",
       "      <td>2015-07-19</td>\n",
       "      <td>28943674</td>\n",
       "      <td>Bianca</td>\n",
       "      <td>Cute and cozy place. Perfect location to every...</td>\n",
       "    </tr>\n",
       "    <tr>\n",
       "      <th>1</th>\n",
       "      <td>7202016</td>\n",
       "      <td>39087409</td>\n",
       "      <td>2015-07-20</td>\n",
       "      <td>32440555</td>\n",
       "      <td>Frank</td>\n",
       "      <td>Kelly has a great room in a very central locat...</td>\n",
       "    </tr>\n",
       "  </tbody>\n",
       "</table>\n",
       "</div>"
      ],
      "text/plain": [
       "   listing_id        id        date  reviewer_id reviewer_name  \\\n",
       "0     7202016  38917982  2015-07-19     28943674        Bianca   \n",
       "1     7202016  39087409  2015-07-20     32440555         Frank   \n",
       "\n",
       "                                            comments  \n",
       "0  Cute and cozy place. Perfect location to every...  \n",
       "1  Kelly has a great room in a very central locat...  "
      ]
     },
     "execution_count": 10,
     "metadata": {},
     "output_type": "execute_result"
    }
   ],
   "source": [
    "# Review of Seattle Review data\n",
    "seattle_review.head(2)"
   ]
  },
  {
   "cell_type": "code",
   "execution_count": 11,
   "metadata": {},
   "outputs": [
    {
     "name": "stdout",
     "output_type": "stream",
     "text": [
      "<class 'pandas.core.frame.DataFrame'>\n",
      "RangeIndex: 84849 entries, 0 to 84848\n",
      "Data columns (total 6 columns):\n",
      "listing_id       84849 non-null int64\n",
      "id               84849 non-null int64\n",
      "date             84849 non-null object\n",
      "reviewer_id      84849 non-null int64\n",
      "reviewer_name    84849 non-null object\n",
      "comments         84831 non-null object\n",
      "dtypes: int64(3), object(3)\n",
      "memory usage: 3.9+ MB\n"
     ]
    }
   ],
   "source": [
    "# Data count and type QC\n",
    "seattle_review.info()"
   ]
  },
  {
   "cell_type": "code",
   "execution_count": 12,
   "metadata": {},
   "outputs": [
    {
     "data": {
      "text/plain": [
       "5.287671232876712"
      ]
     },
     "execution_count": 12,
     "metadata": {},
     "output_type": "execute_result"
    }
   ],
   "source": [
    "# Data QC\n",
    "seattle_review.date.nunique()/365"
   ]
  },
  {
   "cell_type": "markdown",
   "metadata": {},
   "source": [
    "**Data Note** (Review Data): \n",
    "- Captures data for approximately 5 years\n",
    "- Comments column has a few NaNs\n",
    "- Date column would need to be converted to the correct format"
   ]
  },
  {
   "cell_type": "markdown",
   "metadata": {},
   "source": [
    "### Data Preparation and Cleaning"
   ]
  },
  {
   "cell_type": "code",
   "execution_count": 13,
   "metadata": {},
   "outputs": [],
   "source": [
    "# Convert price to numeric by cleaning $ sign and changing data type\n",
    "def cleaned_prices(col,data):\n",
    "    ''' Cleans the corresponding column of the dataset by converting price to numeric\n",
    "    Input : column, dataset\n",
    "    Ouput : None '''\n",
    "    data[col] = data[col].str.replace('$','').str.replace(',','')\n",
    "    data[col] = pd.to_numeric(data[col]);"
   ]
  },
  {
   "cell_type": "code",
   "execution_count": 14,
   "metadata": {},
   "outputs": [],
   "source": [
    "# Clean price column\n",
    "cleaned_prices('price', seattle_calendar)\n",
    "cleaned_prices('price', seattle_listing)"
   ]
  },
  {
   "cell_type": "code",
   "execution_count": 15,
   "metadata": {},
   "outputs": [],
   "source": [
    "# Convert date to datetime format \n",
    "seattle_calendar['date'] = pd.to_datetime(seattle_calendar['date'])\n",
    "seattle_review['date'] = pd.to_datetime(seattle_review['date'])\n",
    "seattle_listing['host_since'] = pd.to_datetime(seattle_listing['host_since'])\n",
    "seattle_listing['first_review'] = pd.to_datetime(seattle_listing['first_review'])\n",
    "seattle_listing['last_review'] = pd.to_datetime(seattle_listing['last_review'])\n",
    "seattle_listing['last_scraped'] = pd.to_datetime(seattle_listing['last_review'])"
   ]
  },
  {
   "cell_type": "code",
   "execution_count": 16,
   "metadata": {},
   "outputs": [],
   "source": [
    "# Add year and month to the calendar data\n",
    "seattle_calendar['year'] = (seattle_calendar['date'].dt.year)\n",
    "seattle_calendar['month'] = (seattle_calendar['date'].dt.month)\n",
    "seattle_calendar['MonthYear'] = pd.to_datetime(seattle_calendar.year.astype(str) + seattle_calendar.month.astype(str), format='%Y%m')\n",
    "seattle_calendar['MonthYear'] = seattle_calendar['MonthYear'].dt.to_period('M')"
   ]
  },
  {
   "cell_type": "code",
   "execution_count": 17,
   "metadata": {},
   "outputs": [],
   "source": [
    "# Add year and month to the review data\n",
    "seattle_review['year'] = (seattle_review['date'].dt.year).astype('str')\n",
    "seattle_review['month'] = (seattle_review['date'].dt.month).astype('str')\n",
    "seattle_review['MonthYear'] = seattle_review[['year', 'month']].apply(lambda x: '_'.join(x), axis=1)\n",
    "seattle_review['MonthYear'] = pd.to_datetime(seattle_review.year.astype(str) + seattle_review.month.astype(str), format='%Y%m')\n",
    "seattle_review['MonthYear'] = seattle_review['MonthYear'].dt.to_period('M')"
   ]
  },
  {
   "cell_type": "code",
   "execution_count": 18,
   "metadata": {},
   "outputs": [],
   "source": [
    "# Drop cols with large number of NaNs in listing data or with constant values or cols which won't be needed presumably\n",
    "drop_cols = ['experiences_offered','listing_url''calendar_last_scraped','scrape_id','requires_license',\n",
    "             'smart_location','host_id','host_name','host_url','square_feet', 'license','state','city',\n",
    "             'market','country_code','country']\n",
    "listing_cols = [c for c in seattle_listing.columns if c not in drop_cols]"
   ]
  },
  {
   "cell_type": "code",
   "execution_count": 19,
   "metadata": {},
   "outputs": [],
   "source": [
    "# Keep only selected columns in litsing data\n",
    "seattle_listing = seattle_listing[listing_cols]"
   ]
  },
  {
   "cell_type": "markdown",
   "metadata": {},
   "source": [
    "### Data Analysis and Modelling"
   ]
  },
  {
   "cell_type": "markdown",
   "metadata": {},
   "source": [
    "**Q1: What are the busiest times of the year to visit Seattle? By how much do prices spike?**"
   ]
  },
  {
   "cell_type": "code",
   "execution_count": 20,
   "metadata": {},
   "outputs": [
    {
     "data": {
      "text/plain": [
       "Text(0.5, 0, 'Month Year')"
      ]
     },
     "execution_count": 20,
     "metadata": {},
     "output_type": "execute_result"
    },
    {
     "data": {
      "image/png": "[encoded data removed]",
      "text/plain": [
       "<Figure size 432x288 with 2 Axes>"
      ]
     },
     "metadata": {
      "needs_background": "light"
     },
     "output_type": "display_data"
    }
   ],
   "source": [
    "# Analyze price trends \n",
    "avg_price_df = seattle_calendar.groupby(['date'])['price'].mean()\n",
    "plt.subplot(211)\n",
    "avg_price_df.resample('D').mean().plot()\n",
    "plt.title('Average Monthly/Daily Price by Month')\n",
    "plt.ylabel ('Average Daily Price')\n",
    "plt.subplot(212)\n",
    "avg_price_df.resample('W').mean().plot()\n",
    "plt.ylabel ('Average Monthly Price')\n",
    "plt.xlabel ('Month Year')\n"
   ]
  },
  {
   "cell_type": "code",
   "execution_count": 21,
   "metadata": {},
   "outputs": [
    {
     "data": {
      "text/plain": [
       "MonthYear\n",
       "2016-01    121.568409\n",
       "2016-02    124.293927\n",
       "2016-03    128.644488\n",
       "2016-04    135.097005\n",
       "2016-05    139.538183\n",
       "2016-06    147.473137\n",
       "2016-07    152.094150\n",
       "2016-08    150.656594\n",
       "2016-09    143.255949\n",
       "2016-10    137.031939\n",
       "2016-11    135.688738\n",
       "2016-12    137.251835\n",
       "2017-01    136.882590\n",
       "Freq: M, Name: price, dtype: float64"
      ]
     },
     "execution_count": 21,
     "metadata": {},
     "output_type": "execute_result"
    }
   ],
   "source": [
    "# Check average monthly price to compare spikes by month\n",
    "seattle_calendar.groupby(['MonthYear'])['price'].mean()"
   ]
  },
  {
   "cell_type": "code",
   "execution_count": 22,
   "metadata": {},
   "outputs": [
    {
     "data": {
      "image/png": "[encoded data removed]",
      "text/plain": [
       "<Figure size 432x288 with 1 Axes>"
      ]
     },
     "metadata": {
      "needs_background": "light"
     },
     "output_type": "display_data"
    }
   ],
   "source": [
    "# Analyze availability trends \n",
    "available_df = seattle_calendar.groupby(['MonthYear','available'], as_index=False).agg({\"listing_id\": \"nunique\"})\n",
    "available_df.pivot(columns='available',index='MonthYear').plot(kind='bar',stacked=True,legend=True)\n",
    "plt.ylabel ('# Listings')\n",
    "plt.title  ('# Available/Unavailable Listings by Month');"
   ]
  },
  {
   "cell_type": "code",
   "execution_count": 23,
   "metadata": {},
   "outputs": [
    {
     "data": {
      "image/png": "[encoded data removed]",
      "text/plain": [
       "<Figure size 1152x360 with 1 Axes>"
      ]
     },
     "metadata": {
      "needs_background": "light"
     },
     "output_type": "display_data"
    }
   ],
   "source": [
    "# Analyze review trends \n",
    "review_count_df = seattle_review.groupby(['MonthYear','year'], as_index=False).agg({\"id\": \"nunique\"})\n",
    "plt.figure(figsize=(16, 5))\n",
    "ax = sns.barplot(review_count_df.MonthYear, review_count_df.id,\n",
    "            hue=review_count_df.year, dodge=False, palette='Set1')\n",
    "ax.set_xticklabels(ax.get_xticklabels(), rotation=45)\n",
    "plt.ylabel ('# Reviews')\n",
    "plt.title  ('# Reviews by Month');"
   ]
  },
  {
   "cell_type": "markdown",
   "metadata": {},
   "source": [
    "**Ans. 1** \n",
    "- The period Jul-Aug seems to be the busiest period for the following reasons\n",
    "    - The average monthly prices are the highest during the period\n",
    "    - Least number of rooms are available during the period\n",
    "    - Most of the reviews are recorded during this period likely after completion of stay\n",
    "- The prices seem to spike by almost 1.25x between Jan (start of the year) to Jul (the peak period)"
   ]
  },
  {
   "cell_type": "markdown",
   "metadata": {},
   "source": [
    "**Q2: Which are the most popular neigborhoods? Can their vibe be described using listing descriptions?**"
   ]
  },
  {
   "cell_type": "code",
   "execution_count": 24,
   "metadata": {},
   "outputs": [],
   "source": [
    "# Create dataframe\n",
    "seattle_neighbour = seattle_listing[['neighbourhood','neighborhood_overview']]"
   ]
  },
  {
   "cell_type": "code",
   "execution_count": 25,
   "metadata": {},
   "outputs": [
    {
     "data": {
      "text/plain": [
       "<matplotlib.axes._subplots.AxesSubplot at 0x298177e39e8>"
      ]
     },
     "execution_count": 25,
     "metadata": {},
     "output_type": "execute_result"
    },
    {
     "data": {
      "image/png": "[encoded data removed]",
      "text/plain": [
       "<Figure size 432x288 with 1 Axes>"
      ]
     },
     "metadata": {
      "needs_background": "light"
     },
     "output_type": "display_data"
    }
   ],
   "source": [
    "# Check for most requested neighborhoods\n",
    "seattle_neighbour['neighbourhood'].value_counts().nlargest(3).plot.bar()"
   ]
  },
  {
   "cell_type": "code",
   "execution_count": 26,
   "metadata": {},
   "outputs": [],
   "source": [
    "# Select and analyze data for only the top 3 neighborhoods \n",
    "subset = ['Capitol Hill','Ballard','Belltown']\n",
    "seattle_neighbour = seattle_neighbour[seattle_neighbour.neighbourhood.isin(subset)]\n",
    "seattle_neighbour.dropna(inplace=True)"
   ]
  },
  {
   "cell_type": "code",
   "execution_count": 27,
   "metadata": {},
   "outputs": [],
   "source": [
    "# Function for a quick look at term document matrix\n",
    "def quick_tfidf(df):\n",
    "    ''' Returns the top features of the term document matrix\n",
    "    Input : dataset\n",
    "    Ouput : None '''\n",
    "    vect = TfidfVectorizer(tokenizer=word_tokenize,ngram_range=(1,2), binary=True, max_features=60, stop_words='english')\n",
    "    TFIDF=vect.fit_transform(df.neighborhood_overview)\n",
    "    print(vect.get_feature_names())"
   ]
  },
  {
   "cell_type": "code",
   "execution_count": 28,
   "metadata": {},
   "outputs": [
    {
     "name": "stdout",
     "output_type": "stream",
     "text": [
      "['!', \"'s\", '(', ')', ',', ', bars', ', restaurants', '.', 'apartment', 'art', 'away', 'away .', 'bars', 'bars ,', 'best', 'blocks', 'broadway', 'bus', 'capitol', 'capitol hill', 'center', 'central', 'city', 'close', 'coffee', 'coffee shops', 'distance', 'downtown', 'downtown seattle', 'easy', 'great', 'grocery', 'hill', 'just', 'located', 'market', 'minute', 'minute walk', 'neighborhood', 'neighborhoods', 'nightlife', 'park', 'parks', 'pike', 'place', 'restaurants', 'restaurants ,', 'right', 'seattle', \"seattle 's\", 'seattle .', 'shops', 'shops ,', 'street', 'vibrant', 'volunteer', 'volunteer park', 'walk', 'walking', 'walking distance']\n"
     ]
    }
   ],
   "source": [
    "# Check for 'Capitol Hill'\n",
    "quick_tfidf(seattle_neighbour[seattle_neighbour.neighbourhood.isin(['Capitol Hill'])])"
   ]
  },
  {
   "cell_type": "code",
   "execution_count": 29,
   "metadata": {},
   "outputs": [
    {
     "name": "stdout",
     "output_type": "stream",
     "text": [
      "['!', \"'s\", '(', ')', ',', ', restaurants', '.', ':', 'amazing', 'area', 'away', 'away .', 'ballard', 'ballard ,', 'ballard locks', 'bars', 'bars ,', 'beach', 'best', 'blocks', 'bus', 'city', 'close', 'coffee', 'distance', 'downtown', 'downtown seattle', 'easy', 'farmers', 'farmers market', 'gardens', 'gardens beach', 'golden', 'golden gardens', 'great', 'home', 'just', 'located', 'locks', 'market', 'minute', 'minutes', 'music', 'neighborhood', 'neighborhoods', 'park', 'parks', 'quiet', 'restaurants', 'restaurants ,', 'seattle', 'seattle .', 'shopping', 'shops', 'shops ,', 'street', 'sunday', 'walk', 'walking', 'walking distance']\n"
     ]
    }
   ],
   "source": [
    "# Check for 'Ballard'\n",
    "quick_tfidf(seattle_neighbour[seattle_neighbour.neighbourhood.isin(['Ballard'])])"
   ]
  },
  {
   "cell_type": "code",
   "execution_count": 30,
   "metadata": {},
   "outputs": [
    {
     "name": "stdout",
     "output_type": "stream",
     "text": [
      "['!', \"'s\", '(', ')', ',', ', seattle', '.', ':', 'aquarium', 'area', 'art', 'art museum', 'attractions', 'away', 'bars', 'belltown', 'blocks', 'center', 'center ,', 'distance', 'downtown', 'downtown seattle', 'experience', 'great', 'heart', 'heart downtown', 'just', 'located', 'market', 'market ,', 'museum', 'music', 'music project', 'needle', 'needle ,', 'neighborhood', 'pacific', 'park', 'pike', 'pike place', 'place', 'place market', 'project', 'restaurants', 'restaurants ,', 'science', 'science center', 'score', 'seattle', \"seattle 's\", 'seattle center', 'shopping', 'space', 'space needle', 'street', 'walk', 'walk score', 'walking', 'walking distance', 'waterfront']\n"
     ]
    }
   ],
   "source": [
    "# Check for 'Belltown'\n",
    "quick_tfidf(seattle_neighbour[seattle_neighbour.neighbourhood.isin(['Belltown'])])"
   ]
  },
  {
   "cell_type": "markdown",
   "metadata": {},
   "source": [
    "**Ans. 2** \n",
    "- Capitol Hill, Ballard, Belltown seem to be the most requested neighborhood per analysis of the listings data\n",
    "- Following is a high-level description of their vibe per a quick analysis:\n",
    "    - Capitol Hill: Capitol Hill is close to Pike Palace market. It seems to have an active nightlife as well as coffee shops\n",
    "    - Ballard: Ballard is close to farmers market and golden gardens. It seems to have a lot of coffee shops and it is near to the beach as well\n",
    "    - Belltown: Belltown listing are around the area which has popular attractions such as art museum, space needle and pike palace market. It is a good spot for shopping and exploration "
   ]
  },
  {
   "cell_type": "markdown",
   "metadata": {},
   "source": [
    "**Q3: Can we use listing details to predict listing price? If yes, which information is the most significant predictor?**"
   ]
  },
  {
   "cell_type": "code",
   "execution_count": 31,
   "metadata": {},
   "outputs": [
    {
     "data": {
      "text/html": [
       "<div>\n",
       "<style scoped>\n",
       "    .dataframe tbody tr th:only-of-type {\n",
       "        vertical-align: middle;\n",
       "    }\n",
       "\n",
       "    .dataframe tbody tr th {\n",
       "        vertical-align: top;\n",
       "    }\n",
       "\n",
       "    .dataframe thead th {\n",
       "        text-align: right;\n",
       "    }\n",
       "</style>\n",
       "<table border=\"1\" class=\"dataframe\">\n",
       "  <thead>\n",
       "    <tr style=\"text-align: right;\">\n",
       "      <th></th>\n",
       "      <th>id</th>\n",
       "      <th>listing_url</th>\n",
       "      <th>last_scraped</th>\n",
       "      <th>name</th>\n",
       "      <th>summary</th>\n",
       "      <th>space</th>\n",
       "      <th>description</th>\n",
       "      <th>neighborhood_overview</th>\n",
       "      <th>notes</th>\n",
       "      <th>transit</th>\n",
       "      <th>thumbnail_url</th>\n",
       "      <th>medium_url</th>\n",
       "      <th>picture_url</th>\n",
       "      <th>xl_picture_url</th>\n",
       "      <th>host_since</th>\n",
       "      <th>host_location</th>\n",
       "      <th>host_about</th>\n",
       "      <th>host_response_time</th>\n",
       "      <th>host_response_rate</th>\n",
       "      <th>host_acceptance_rate</th>\n",
       "      <th>host_is_superhost</th>\n",
       "      <th>host_thumbnail_url</th>\n",
       "      <th>host_picture_url</th>\n",
       "      <th>host_neighbourhood</th>\n",
       "      <th>host_listings_count</th>\n",
       "      <th>host_total_listings_count</th>\n",
       "      <th>host_verifications</th>\n",
       "      <th>host_has_profile_pic</th>\n",
       "      <th>host_identity_verified</th>\n",
       "      <th>street</th>\n",
       "      <th>neighbourhood</th>\n",
       "      <th>neighbourhood_cleansed</th>\n",
       "      <th>neighbourhood_group_cleansed</th>\n",
       "      <th>zipcode</th>\n",
       "      <th>latitude</th>\n",
       "      <th>longitude</th>\n",
       "      <th>is_location_exact</th>\n",
       "      <th>property_type</th>\n",
       "      <th>room_type</th>\n",
       "      <th>accommodates</th>\n",
       "      <th>bathrooms</th>\n",
       "      <th>bedrooms</th>\n",
       "      <th>beds</th>\n",
       "      <th>bed_type</th>\n",
       "      <th>amenities</th>\n",
       "      <th>price</th>\n",
       "      <th>weekly_price</th>\n",
       "      <th>monthly_price</th>\n",
       "      <th>security_deposit</th>\n",
       "      <th>cleaning_fee</th>\n",
       "      <th>guests_included</th>\n",
       "      <th>extra_people</th>\n",
       "      <th>minimum_nights</th>\n",
       "      <th>maximum_nights</th>\n",
       "      <th>calendar_updated</th>\n",
       "      <th>has_availability</th>\n",
       "      <th>availability_30</th>\n",
       "      <th>availability_60</th>\n",
       "      <th>availability_90</th>\n",
       "      <th>availability_365</th>\n",
       "      <th>calendar_last_scraped</th>\n",
       "      <th>number_of_reviews</th>\n",
       "      <th>first_review</th>\n",
       "      <th>last_review</th>\n",
       "      <th>review_scores_rating</th>\n",
       "      <th>review_scores_accuracy</th>\n",
       "      <th>review_scores_cleanliness</th>\n",
       "      <th>review_scores_checkin</th>\n",
       "      <th>review_scores_communication</th>\n",
       "      <th>review_scores_location</th>\n",
       "      <th>review_scores_value</th>\n",
       "      <th>jurisdiction_names</th>\n",
       "      <th>instant_bookable</th>\n",
       "      <th>cancellation_policy</th>\n",
       "      <th>require_guest_profile_picture</th>\n",
       "      <th>require_guest_phone_verification</th>\n",
       "      <th>calculated_host_listings_count</th>\n",
       "      <th>reviews_per_month</th>\n",
       "    </tr>\n",
       "  </thead>\n",
       "  <tbody>\n",
       "    <tr>\n",
       "      <th>0</th>\n",
       "      <td>241032</td>\n",
       "      <td>https://www.airbnb.com/rooms/241032</td>\n",
       "      <td>2016-01-02</td>\n",
       "      <td>Stylish Queen Anne Apartment</td>\n",
       "      <td>NaN</td>\n",
       "      <td>Make your self at home in this charming one-be...</td>\n",
       "      <td>Make your self at home in this charming one-be...</td>\n",
       "      <td>NaN</td>\n",
       "      <td>NaN</td>\n",
       "      <td>NaN</td>\n",
       "      <td>NaN</td>\n",
       "      <td>NaN</td>\n",
       "      <td>https://a1.muscache.com/ac/pictures/67560560/c...</td>\n",
       "      <td>NaN</td>\n",
       "      <td>2011-08-11</td>\n",
       "      <td>Seattle, Washington, United States</td>\n",
       "      <td>I am an artist, interior designer, and run a s...</td>\n",
       "      <td>within a few hours</td>\n",
       "      <td>96%</td>\n",
       "      <td>100%</td>\n",
       "      <td>f</td>\n",
       "      <td>https://a0.muscache.com/ac/users/956883/profil...</td>\n",
       "      <td>https://a0.muscache.com/ac/users/956883/profil...</td>\n",
       "      <td>Queen Anne</td>\n",
       "      <td>3.0</td>\n",
       "      <td>3.0</td>\n",
       "      <td>['email', 'phone', 'reviews', 'kba']</td>\n",
       "      <td>t</td>\n",
       "      <td>t</td>\n",
       "      <td>Gilman Dr W, Seattle, WA 98119, United States</td>\n",
       "      <td>Queen Anne</td>\n",
       "      <td>West Queen Anne</td>\n",
       "      <td>Queen Anne</td>\n",
       "      <td>98119</td>\n",
       "      <td>47.636289</td>\n",
       "      <td>-122.371025</td>\n",
       "      <td>t</td>\n",
       "      <td>Apartment</td>\n",
       "      <td>Entire home/apt</td>\n",
       "      <td>4</td>\n",
       "      <td>1.0</td>\n",
       "      <td>1.0</td>\n",
       "      <td>1.0</td>\n",
       "      <td>Real Bed</td>\n",
       "      <td>{TV,\"Cable TV\",Internet,\"Wireless Internet\",\"A...</td>\n",
       "      <td>85.0</td>\n",
       "      <td>NaN</td>\n",
       "      <td>NaN</td>\n",
       "      <td>NaN</td>\n",
       "      <td>NaN</td>\n",
       "      <td>2</td>\n",
       "      <td>$5.00</td>\n",
       "      <td>1</td>\n",
       "      <td>365</td>\n",
       "      <td>4 weeks ago</td>\n",
       "      <td>t</td>\n",
       "      <td>14</td>\n",
       "      <td>41</td>\n",
       "      <td>71</td>\n",
       "      <td>346</td>\n",
       "      <td>2016-01-04</td>\n",
       "      <td>207</td>\n",
       "      <td>2011-11-01</td>\n",
       "      <td>2016-01-02</td>\n",
       "      <td>95.0</td>\n",
       "      <td>10.0</td>\n",
       "      <td>10.0</td>\n",
       "      <td>10.0</td>\n",
       "      <td>10.0</td>\n",
       "      <td>9.0</td>\n",
       "      <td>10.0</td>\n",
       "      <td>WASHINGTON</td>\n",
       "      <td>f</td>\n",
       "      <td>moderate</td>\n",
       "      <td>f</td>\n",
       "      <td>f</td>\n",
       "      <td>2</td>\n",
       "      <td>4.07</td>\n",
       "    </tr>\n",
       "    <tr>\n",
       "      <th>1</th>\n",
       "      <td>953595</td>\n",
       "      <td>https://www.airbnb.com/rooms/953595</td>\n",
       "      <td>2015-12-29</td>\n",
       "      <td>Bright &amp; Airy Queen Anne Apartment</td>\n",
       "      <td>Chemically sensitive? We've removed the irrita...</td>\n",
       "      <td>Beautiful, hypoallergenic apartment in an extr...</td>\n",
       "      <td>Chemically sensitive? We've removed the irrita...</td>\n",
       "      <td>Queen Anne is a wonderful, truly functional vi...</td>\n",
       "      <td>What's up with the free pillows?  Our home was...</td>\n",
       "      <td>Convenient bus stops are just down the block, ...</td>\n",
       "      <td>https://a0.muscache.com/ac/pictures/14409893/f...</td>\n",
       "      <td>https://a0.muscache.com/im/pictures/14409893/f...</td>\n",
       "      <td>https://a0.muscache.com/ac/pictures/14409893/f...</td>\n",
       "      <td>https://a0.muscache.com/ac/pictures/14409893/f...</td>\n",
       "      <td>2013-02-21</td>\n",
       "      <td>Seattle, Washington, United States</td>\n",
       "      <td>Living east coast/left coast/overseas.  Time i...</td>\n",
       "      <td>within an hour</td>\n",
       "      <td>98%</td>\n",
       "      <td>100%</td>\n",
       "      <td>t</td>\n",
       "      <td>https://a0.muscache.com/ac/users/5177328/profi...</td>\n",
       "      <td>https://a0.muscache.com/ac/users/5177328/profi...</td>\n",
       "      <td>Queen Anne</td>\n",
       "      <td>6.0</td>\n",
       "      <td>6.0</td>\n",
       "      <td>['email', 'phone', 'facebook', 'linkedin', 're...</td>\n",
       "      <td>t</td>\n",
       "      <td>t</td>\n",
       "      <td>7th Avenue West, Seattle, WA 98119, United States</td>\n",
       "      <td>Queen Anne</td>\n",
       "      <td>West Queen Anne</td>\n",
       "      <td>Queen Anne</td>\n",
       "      <td>98119</td>\n",
       "      <td>47.639123</td>\n",
       "      <td>-122.365666</td>\n",
       "      <td>t</td>\n",
       "      <td>Apartment</td>\n",
       "      <td>Entire home/apt</td>\n",
       "      <td>4</td>\n",
       "      <td>1.0</td>\n",
       "      <td>1.0</td>\n",
       "      <td>1.0</td>\n",
       "      <td>Real Bed</td>\n",
       "      <td>{TV,Internet,\"Wireless Internet\",Kitchen,\"Free...</td>\n",
       "      <td>150.0</td>\n",
       "      <td>$1,000.00</td>\n",
       "      <td>$3,000.00</td>\n",
       "      <td>$100.00</td>\n",
       "      <td>$40.00</td>\n",
       "      <td>1</td>\n",
       "      <td>$0.00</td>\n",
       "      <td>2</td>\n",
       "      <td>90</td>\n",
       "      <td>today</td>\n",
       "      <td>t</td>\n",
       "      <td>13</td>\n",
       "      <td>13</td>\n",
       "      <td>16</td>\n",
       "      <td>291</td>\n",
       "      <td>2016-01-04</td>\n",
       "      <td>43</td>\n",
       "      <td>2013-08-19</td>\n",
       "      <td>2015-12-29</td>\n",
       "      <td>96.0</td>\n",
       "      <td>10.0</td>\n",
       "      <td>10.0</td>\n",
       "      <td>10.0</td>\n",
       "      <td>10.0</td>\n",
       "      <td>10.0</td>\n",
       "      <td>10.0</td>\n",
       "      <td>WASHINGTON</td>\n",
       "      <td>f</td>\n",
       "      <td>strict</td>\n",
       "      <td>t</td>\n",
       "      <td>t</td>\n",
       "      <td>6</td>\n",
       "      <td>1.48</td>\n",
       "    </tr>\n",
       "  </tbody>\n",
       "</table>\n",
       "</div>"
      ],
      "text/plain": [
       "       id                          listing_url last_scraped  \\\n",
       "0  241032  https://www.airbnb.com/rooms/241032   2016-01-02   \n",
       "1  953595  https://www.airbnb.com/rooms/953595   2015-12-29   \n",
       "\n",
       "                                 name  \\\n",
       "0        Stylish Queen Anne Apartment   \n",
       "1  Bright & Airy Queen Anne Apartment   \n",
       "\n",
       "                                             summary  \\\n",
       "0                                                NaN   \n",
       "1  Chemically sensitive? We've removed the irrita...   \n",
       "\n",
       "                                               space  \\\n",
       "0  Make your self at home in this charming one-be...   \n",
       "1  Beautiful, hypoallergenic apartment in an extr...   \n",
       "\n",
       "                                         description  \\\n",
       "0  Make your self at home in this charming one-be...   \n",
       "1  Chemically sensitive? We've removed the irrita...   \n",
       "\n",
       "                               neighborhood_overview  \\\n",
       "0                                                NaN   \n",
       "1  Queen Anne is a wonderful, truly functional vi...   \n",
       "\n",
       "                                               notes  \\\n",
       "0                                                NaN   \n",
       "1  What's up with the free pillows?  Our home was...   \n",
       "\n",
       "                                             transit  \\\n",
       "0                                                NaN   \n",
       "1  Convenient bus stops are just down the block, ...   \n",
       "\n",
       "                                       thumbnail_url  \\\n",
       "0                                                NaN   \n",
       "1  https://a0.muscache.com/ac/pictures/14409893/f...   \n",
       "\n",
       "                                          medium_url  \\\n",
       "0                                                NaN   \n",
       "1  https://a0.muscache.com/im/pictures/14409893/f...   \n",
       "\n",
       "                                         picture_url  \\\n",
       "0  https://a1.muscache.com/ac/pictures/67560560/c...   \n",
       "1  https://a0.muscache.com/ac/pictures/14409893/f...   \n",
       "\n",
       "                                      xl_picture_url host_since  \\\n",
       "0                                                NaN 2011-08-11   \n",
       "1  https://a0.muscache.com/ac/pictures/14409893/f... 2013-02-21   \n",
       "\n",
       "                        host_location  \\\n",
       "0  Seattle, Washington, United States   \n",
       "1  Seattle, Washington, United States   \n",
       "\n",
       "                                          host_about  host_response_time  \\\n",
       "0  I am an artist, interior designer, and run a s...  within a few hours   \n",
       "1  Living east coast/left coast/overseas.  Time i...      within an hour   \n",
       "\n",
       "  host_response_rate host_acceptance_rate host_is_superhost  \\\n",
       "0                96%                 100%                 f   \n",
       "1                98%                 100%                 t   \n",
       "\n",
       "                                  host_thumbnail_url  \\\n",
       "0  https://a0.muscache.com/ac/users/956883/profil...   \n",
       "1  https://a0.muscache.com/ac/users/5177328/profi...   \n",
       "\n",
       "                                    host_picture_url host_neighbourhood  \\\n",
       "0  https://a0.muscache.com/ac/users/956883/profil...         Queen Anne   \n",
       "1  https://a0.muscache.com/ac/users/5177328/profi...         Queen Anne   \n",
       "\n",
       "   host_listings_count  host_total_listings_count  \\\n",
       "0                  3.0                        3.0   \n",
       "1                  6.0                        6.0   \n",
       "\n",
       "                                  host_verifications host_has_profile_pic  \\\n",
       "0               ['email', 'phone', 'reviews', 'kba']                    t   \n",
       "1  ['email', 'phone', 'facebook', 'linkedin', 're...                    t   \n",
       "\n",
       "  host_identity_verified                                             street  \\\n",
       "0                      t      Gilman Dr W, Seattle, WA 98119, United States   \n",
       "1                      t  7th Avenue West, Seattle, WA 98119, United States   \n",
       "\n",
       "  neighbourhood neighbourhood_cleansed neighbourhood_group_cleansed zipcode  \\\n",
       "0    Queen Anne        West Queen Anne                   Queen Anne   98119   \n",
       "1    Queen Anne        West Queen Anne                   Queen Anne   98119   \n",
       "\n",
       "    latitude   longitude is_location_exact property_type        room_type  \\\n",
       "0  47.636289 -122.371025                 t     Apartment  Entire home/apt   \n",
       "1  47.639123 -122.365666                 t     Apartment  Entire home/apt   \n",
       "\n",
       "   accommodates  bathrooms  bedrooms  beds  bed_type  \\\n",
       "0             4        1.0       1.0   1.0  Real Bed   \n",
       "1             4        1.0       1.0   1.0  Real Bed   \n",
       "\n",
       "                                           amenities  price weekly_price  \\\n",
       "0  {TV,\"Cable TV\",Internet,\"Wireless Internet\",\"A...   85.0          NaN   \n",
       "1  {TV,Internet,\"Wireless Internet\",Kitchen,\"Free...  150.0    $1,000.00   \n",
       "\n",
       "  monthly_price security_deposit cleaning_fee  guests_included extra_people  \\\n",
       "0           NaN              NaN          NaN                2        $5.00   \n",
       "1     $3,000.00          $100.00       $40.00                1        $0.00   \n",
       "\n",
       "   minimum_nights  maximum_nights calendar_updated has_availability  \\\n",
       "0               1             365      4 weeks ago                t   \n",
       "1               2              90            today                t   \n",
       "\n",
       "   availability_30  availability_60  availability_90  availability_365  \\\n",
       "0               14               41               71               346   \n",
       "1               13               13               16               291   \n",
       "\n",
       "  calendar_last_scraped  number_of_reviews first_review last_review  \\\n",
       "0            2016-01-04                207   2011-11-01  2016-01-02   \n",
       "1            2016-01-04                 43   2013-08-19  2015-12-29   \n",
       "\n",
       "   review_scores_rating  review_scores_accuracy  review_scores_cleanliness  \\\n",
       "0                  95.0                    10.0                       10.0   \n",
       "1                  96.0                    10.0                       10.0   \n",
       "\n",
       "   review_scores_checkin  review_scores_communication  review_scores_location  \\\n",
       "0                   10.0                         10.0                     9.0   \n",
       "1                   10.0                         10.0                    10.0   \n",
       "\n",
       "   review_scores_value jurisdiction_names instant_bookable  \\\n",
       "0                 10.0         WASHINGTON                f   \n",
       "1                 10.0         WASHINGTON                f   \n",
       "\n",
       "  cancellation_policy require_guest_profile_picture  \\\n",
       "0            moderate                             f   \n",
       "1              strict                             t   \n",
       "\n",
       "  require_guest_phone_verification  calculated_host_listings_count  \\\n",
       "0                                f                               2   \n",
       "1                                t                               6   \n",
       "\n",
       "   reviews_per_month  \n",
       "0               4.07  \n",
       "1               1.48  "
      ]
     },
     "execution_count": 31,
     "metadata": {},
     "output_type": "execute_result"
    }
   ],
   "source": [
    "# Check data\n",
    "seattle_listing.head(2)"
   ]
  },
  {
   "cell_type": "code",
   "execution_count": 32,
   "metadata": {},
   "outputs": [
    {
     "data": {
      "text/plain": [
       "id                                  0\n",
       "host_listings_count                 2\n",
       "host_total_listings_count           2\n",
       "latitude                            0\n",
       "longitude                           0\n",
       "accommodates                        0\n",
       "bathrooms                          16\n",
       "bedrooms                            6\n",
       "beds                                1\n",
       "price                               0\n",
       "guests_included                     0\n",
       "minimum_nights                      0\n",
       "maximum_nights                      0\n",
       "availability_30                     0\n",
       "availability_60                     0\n",
       "availability_90                     0\n",
       "availability_365                    0\n",
       "number_of_reviews                   0\n",
       "review_scores_rating              647\n",
       "review_scores_accuracy            658\n",
       "review_scores_cleanliness         653\n",
       "review_scores_checkin             658\n",
       "review_scores_communication       651\n",
       "review_scores_location            655\n",
       "review_scores_value               656\n",
       "calculated_host_listings_count      0\n",
       "reviews_per_month                 627\n",
       "dtype: int64"
      ]
     },
     "execution_count": 32,
     "metadata": {},
     "output_type": "execute_result"
    }
   ],
   "source": [
    "# Get all numeric columns from seattle, check for NaNs\n",
    "numerics = ['int16', 'int32', 'int64', 'float16', 'float32', 'float64']\n",
    "num_cols = seattle_listing.select_dtypes(include=numerics).columns\n",
    "seattle_listing[num_cols].isna().sum()"
   ]
  },
  {
   "cell_type": "code",
   "execution_count": 33,
   "metadata": {},
   "outputs": [],
   "source": [
    "# Fill numeric NaNs with mean\n",
    "seattle_listing[num_cols] = seattle_listing[num_cols].fillna(seattle_listing[num_cols].mean())"
   ]
  },
  {
   "cell_type": "code",
   "execution_count": 34,
   "metadata": {},
   "outputs": [],
   "source": [
    "# Check categorical columns\n",
    "other_cols= seattle_listing.select_dtypes(include=['object']).columns"
   ]
  },
  {
   "cell_type": "code",
   "execution_count": 35,
   "metadata": {},
   "outputs": [],
   "source": [
    "# Drop additional columns which seem to be misc.\n",
    "# Also, weekly price and monthly price would be highly correlated with price; hence, drop those\n",
    "drop_cols2 = ['listing_url', 'name', 'summary', 'space', 'description','neighborhood_overview', 'notes', 'transit', \n",
    "              'thumbnail_url','medium_url', 'picture_url', 'xl_picture_url', 'host_about','host_thumbnail_url', \n",
    "              'host_picture_url','jurisdiction_names','weekly_price','monthly_price']\n",
    "# Reduced seattle listing df\n",
    "listing_cols2 = [c for c in seattle_listing.columns if c not in drop_cols2]\n",
    "seattle_listing = seattle_listing[listing_cols2]"
   ]
  },
  {
   "cell_type": "code",
   "execution_count": 36,
   "metadata": {},
   "outputs": [],
   "source": [
    "# Clean prices, not cleaned previously to avoid incorrect imputation\n",
    "cleaned_prices('security_deposit', seattle_listing)\n",
    "cleaned_prices('cleaning_fee', seattle_listing)\n",
    "cleaned_prices('extra_people', seattle_listing)"
   ]
  },
  {
   "cell_type": "code",
   "execution_count": 37,
   "metadata": {},
   "outputs": [],
   "source": [
    "# Encode boolean true/false values\n",
    "bool_encode = {\n",
    "    'host_is_superhost' : {'f':0, 't':1},\n",
    "    'host_identity_verified': {'f':0, 't':1},\n",
    "    'is_location_exact': {'f':0, 't':1},\n",
    "    'instant_bookable': {'f':0, 't':1},\n",
    "    'require_guest_profile_picture': {'f':0, 't':1},\n",
    "    'require_guest_phone_verification': {'f':0, 't':1},\n",
    "    'host_has_profile_pic': {'f':0, 't':1}\n",
    "}\n",
    "\n",
    "seattle_listing.replace(bool_encode, inplace=True)"
   ]
  },
  {
   "cell_type": "code",
   "execution_count": 38,
   "metadata": {},
   "outputs": [],
   "source": [
    "# Drop Nans from boolean encoded columns\n",
    "bool_cols = ['host_is_superhost','host_identity_verified','is_location_exact','instant_bookable',\n",
    "             'require_guest_profile_picture','require_guest_phone_verification','host_has_profile_pic']\n",
    "\n",
    "seattle_listing = seattle_listing.dropna(subset=['host_is_superhost'])\n",
    "seattle_listing = seattle_listing.dropna(subset=['property_type'])\n",
    "\n",
    "# Convert to int data type\n",
    "seattle_listing[bool_cols] = seattle_listing[bool_cols].astype(int)"
   ]
  },
  {
   "cell_type": "code",
   "execution_count": 39,
   "metadata": {},
   "outputs": [],
   "source": [
    "# new feature: to check for how long host has been active \n",
    "seattle_listing.last_scraped_max = seattle_listing.last_scraped.max()\n",
    "seattle_listing.host_since_days = (seattle_listing.last_scraped_max - seattle_listing.host_since).dt.days"
   ]
  },
  {
   "cell_type": "code",
   "execution_count": 40,
   "metadata": {},
   "outputs": [],
   "source": [
    "# new feature: to check for total review duration first review to last\n",
    "seattle_listing.review_duration = (seattle_listing.last_review - seattle_listing.first_review).dt.days"
   ]
  },
  {
   "cell_type": "code",
   "execution_count": 41,
   "metadata": {},
   "outputs": [],
   "source": [
    "# neighbourhood_group_cleansed seems to be a comprehensive representation of neighbourhood values\n",
    "# new feature created host neighborhood same as property neighborhood\n",
    "seattle_listing['host_in_same_neighbourhood'] = (\n",
    "    seattle_listing['host_neighbourhood'] == seattle_listing['neighbourhood']).astype(int)"
   ]
  },
  {
   "cell_type": "code",
   "execution_count": 42,
   "metadata": {},
   "outputs": [],
   "source": [
    "# Drop additonal features\n",
    "drop_cols3 = ['neighbourhood_cleansed','host_since', 'last_scraped','zipcode','latitude','longitude','host_location','street',\n",
    "              'neighbourhood','host_neighbourhood']\n",
    "\n",
    "# Reduced seattle listing df\n",
    "listing_cols3 = [c for c in seattle_listing.columns if c not in drop_cols3]\n",
    "seattle_listing = seattle_listing[listing_cols3]"
   ]
  },
  {
   "cell_type": "code",
   "execution_count": 43,
   "metadata": {},
   "outputs": [],
   "source": [
    "# Split out various values in host verfication as separate features\n",
    "# Get list of all verification methods\n",
    "methods_list = list()\n",
    "for methods in seattle_listing['host_verifications'].unique():\n",
    "    methods_list += re.findall(r\"\\'(\\w+)\\'\", methods)\n",
    "    methods_list = list(set(methods_list))\n",
    "\n",
    "# Create new columns for each method and initialize with zero\n",
    "for method in methods_list:\n",
    "    seattle_listing.loc[:, method] = 0.0\n",
    "\n",
    "# Checking original column and decode the result into above created columns\n",
    "for index, value in seattle_listing['host_verifications'].iteritems():\n",
    "    methods = re.findall(r\"\\'(\\w+)\\'\", value)\n",
    "    seattle_listing.loc[index, methods] = 1.0\n",
    "\n",
    "seattle_listing.drop(['host_verifications'], axis=1, inplace=True)"
   ]
  },
  {
   "cell_type": "code",
   "execution_count": 44,
   "metadata": {},
   "outputs": [],
   "source": [
    "# Split out various values in amenities as separate features\n",
    "# Get list of all verification methods\n",
    "amenities_list = list()\n",
    "for amenities in seattle_listing['amenities'].unique():\n",
    "    amenities_list += re.findall(r\"\\{([^\\{\\}\\'\\\"\\,]+)\\,\", amenities)\n",
    "    amenities_list += re.findall(r\"\\,([^\\{\\}\\'\\\"\\,]+)\\}\", amenities)\n",
    "    amenities_list += re.findall(r\"\\,([^\\{\\}\\'\\\"\\,]+)\\,\", amenities)\n",
    "    amenities_list += re.findall(r\"\\\"([^\\{\\}\\'\\\"\\,]+)\\\"\", amenities)\n",
    "    amenities_list = list(set(amenities_list))\n",
    "\n",
    "# Create new columns for each amenity and initialize with zero.\n",
    "for amenity in amenities_list:\n",
    "    seattle_listing.loc[:, amenity] = 0.0\n",
    "\n",
    "# Checking original column and decode the result into above created columns.\n",
    "for index, value in seattle_listing['amenities'].iteritems():\n",
    "    amenities_list = re.findall(r\"\\{([^\\{\\}\\'\\\"\\,]+)\\,\", value)\n",
    "    amenities_list += re.findall(r\"\\,([^\\{\\}\\'\\\"\\,]+)\\}\", value)\n",
    "    amenities_list += re.findall(r\"\\,([^\\{\\}\\'\\\"\\,]+)\\,\", value)\n",
    "    amenities_list += re.findall(r\"\\\"([^\\{\\}\\'\\\"\\,]+)\\\"\", value)\n",
    "    seattle_listing.loc[index, amenities_list] = 1.0\n",
    "\n",
    "seattle_listing.drop(['amenities'], axis=1, inplace=True)"
   ]
  },
  {
   "cell_type": "code",
   "execution_count": 45,
   "metadata": {},
   "outputs": [],
   "source": [
    "# Fill cleaning fee and security deposit NaNs with 0\n",
    "seattle_listing[['security_deposit','cleaning_fee']] = seattle_listing[['security_deposit','cleaning_fee']].fillna(0)\n"
   ]
  },
  {
   "cell_type": "code",
   "execution_count": 46,
   "metadata": {},
   "outputs": [],
   "source": [
    "# Convert host response and acceptance rates into 0-1 scale\n",
    "seattle_listing['host_response_rate'] = pd.to_numeric(seattle_listing['host_response_rate'].apply(lambda x: str(x)\n",
    "                                                                                              .replace('%', '')\n",
    "                                                                                              .replace('N/A', '')),\n",
    "                                                    errors='coerce')/100\n",
    "\n",
    "seattle_listing['host_acceptance_rate'] = pd.to_numeric(seattle_listing['host_acceptance_rate'].apply(lambda x: str(x)\n",
    "                                                                                              .replace('%', '')\n",
    "                                                                                              .replace('N/A', '')),\n",
    "                                                    errors='coerce')/100"
   ]
  },
  {
   "cell_type": "code",
   "execution_count": 47,
   "metadata": {},
   "outputs": [],
   "source": [
    "# Function to convert response time column to numeric\n",
    "def response_time_map(x):\n",
    "    ''' Maps response time column values to corresponding numeric values\n",
    "    Input : column\n",
    "    Ouput : column'''\n",
    "    \n",
    "    if x == 'within an hour':\n",
    "        x='1'\n",
    "    elif x == 'within a few hours':\n",
    "        x='4'\n",
    "    elif x == 'within a day':\n",
    "        x='24'\n",
    "    elif x == 'a few days or more':\n",
    "        x='48'\n",
    "    elif x == np.nan:\n",
    "        np.nan\n",
    "    else:\n",
    "        x='96'\n",
    "        \n",
    "    return x"
   ]
  },
  {
   "cell_type": "code",
   "execution_count": 48,
   "metadata": {},
   "outputs": [],
   "source": [
    "# Convert response time column to numeric\n",
    "seattle_listing['host_response_time'] = seattle_listing['host_response_time'].apply(response_time_map).astype(int)"
   ]
  },
  {
   "cell_type": "markdown",
   "metadata": {},
   "source": [
    "### Data Modeling"
   ]
  },
  {
   "cell_type": "code",
   "execution_count": 49,
   "metadata": {},
   "outputs": [],
   "source": [
    "# Features for price prediction would likely depend on host and facility related features; hence, dropping other features\n",
    "drop_cols4 = ['calendar_last_scraped','first_review','has_availability','last_review','calendar_updated']\n",
    "\n",
    "# Reduced seattle listing df\n",
    "listing_cols4 = [c for c in seattle_listing.columns if c not in drop_cols4]\n",
    "seattle_listing = seattle_listing[listing_cols4]"
   ]
  },
  {
   "cell_type": "code",
   "execution_count": 50,
   "metadata": {},
   "outputs": [],
   "source": [
    "# Create df copy\n",
    "price_pred_df = seattle_listing.copy(deep=True)"
   ]
  },
  {
   "cell_type": "code",
   "execution_count": 51,
   "metadata": {},
   "outputs": [],
   "source": [
    "# One Hot Encode Categorical columns\n",
    "price_pred_df = pd.get_dummies(price_pred_df, columns=['neighbourhood_group_cleansed', 'property_type', 'room_type',\n",
    "       'bed_type', 'cancellation_policy'], drop_first=True)\n",
    "\n",
    "# Fill Na with 0\n",
    "price_pred_df.fillna(0,inplace=True)"
   ]
  },
  {
   "cell_type": "code",
   "execution_count": 52,
   "metadata": {},
   "outputs": [],
   "source": [
    "# Intialize X and y for model\n",
    "X = price_pred_df.drop(['price','id'], axis=1)\n",
    "y = price_pred_df['price']"
   ]
  },
  {
   "cell_type": "code",
   "execution_count": 53,
   "metadata": {},
   "outputs": [],
   "source": [
    "# Function to calculate VIF\n",
    "def calculate_vif_(X, thresh=100):\n",
    "    ''' Calculates VIF - to ascertain multicolinearity and drops column below the given threshold\n",
    "    Input : dataset\n",
    "    Ouput : dataset '''\n",
    "    cols = X.columns\n",
    "    variables = np.arange(X.shape[1])\n",
    "    dropped=True\n",
    "    while dropped:\n",
    "        dropped=False\n",
    "        c = X[cols[variables]].values\n",
    "        vif = [variance_inflation_factor(c, ix) for ix in np.arange(c.shape[1])]\n",
    "        maxloc = vif.index(max(vif))\n",
    "        if max(vif) > thresh:\n",
    "            print('dropping \\'' + X[cols[variables]].columns[maxloc] + '\\' at index: ' + str(maxloc))\n",
    "            variables = np.delete(variables, maxloc)\n",
    "            dropped=True\n",
    "    print('Remaining variables:')\n",
    "    print(X.columns[variables])\n",
    "    return X[cols[variables]]"
   ]
  },
  {
   "cell_type": "code",
   "execution_count": 54,
   "metadata": {},
   "outputs": [
    {
     "name": "stdout",
     "output_type": "stream",
     "text": [
      "dropping 'host_listings_count' at index: 4\n",
      "dropping 'review_scores_communication' at index: 27\n",
      "dropping 'review_scores_rating' at index: 23\n",
      "dropping 'review_scores_checkin' at index: 25\n",
      "dropping 'review_scores_accuracy' at index: 23\n",
      "dropping 'host_has_profile_pic' at index: 5\n",
      "dropping 'review_scores_location' at index: 23\n",
      "dropping 'review_scores_value' at index: 23\n",
      "dropping 'availability_60' at index: 18\n",
      "dropping 'review_scores_cleanliness' at index: 21\n",
      "dropping 'phone' at index: 35\n",
      "dropping 'bed_type_Real Bed' at index: 117\n",
      "dropping 'host_response_rate' at index: 1\n",
      "Remaining variables:\n",
      "Index(['host_response_time', 'host_acceptance_rate', 'host_is_superhost',\n",
      "       'host_total_listings_count', 'host_identity_verified',\n",
      "       'is_location_exact', 'accommodates', 'bathrooms', 'bedrooms', 'beds',\n",
      "       ...\n",
      "       'property_type_Townhouse', 'property_type_Treehouse',\n",
      "       'property_type_Yurt', 'room_type_Private room', 'room_type_Shared room',\n",
      "       'bed_type_Couch', 'bed_type_Futon', 'bed_type_Pull-out Sofa',\n",
      "       'cancellation_policy_moderate', 'cancellation_policy_strict'],\n",
      "      dtype='object', length=118)\n"
     ]
    }
   ],
   "source": [
    "# Check for multicolinearity using VIF and drop columns\n",
    "X = calculate_vif_(X, thresh=50)"
   ]
  },
  {
   "cell_type": "code",
   "execution_count": 55,
   "metadata": {},
   "outputs": [],
   "source": [
    "# Train test split \n",
    "X_train, X_test, y_train, y_test = train_test_split(\n",
    "    X, y, test_size=0.3, random_state=42)"
   ]
  },
  {
   "cell_type": "code",
   "execution_count": 56,
   "metadata": {},
   "outputs": [],
   "source": [
    "# Instantiate a pipeline for Gradient Boost Regressor\n",
    "pipe = Pipeline([('scl', StandardScaler()),\n",
    "                     ('est', GradientBoostingRegressor(random_state=42))])"
   ]
  },
  {
   "cell_type": "code",
   "execution_count": 57,
   "metadata": {},
   "outputs": [
    {
     "name": "stdout",
     "output_type": "stream",
     "text": [
      "Fitting 3 folds for each of 18 candidates, totalling 54 fits\n"
     ]
    },
    {
     "name": "stderr",
     "output_type": "stream",
     "text": [
      "[Parallel(n_jobs=1)]: Using backend SequentialBackend with 1 concurrent workers.\n",
      "[Parallel(n_jobs=1)]: Done  54 out of  54 | elapsed:   46.6s finished\n"
     ]
    },
    {
     "name": "stdout",
     "output_type": "stream",
     "text": [
      "Best Model: GradientBoostingRegressor(alpha=0.9, criterion='friedman_mse', init=None,\n",
      "             learning_rate=0.1, loss='ls', max_depth=3, max_features=None,\n",
      "             max_leaf_nodes=None, min_impurity_decrease=0.0,\n",
      "             min_impurity_split=None, min_samples_leaf=5,\n",
      "             min_samples_split=2, min_weight_fraction_leaf=0.0,\n",
      "             n_estimators=100, n_iter_no_change=None, presort='auto',\n",
      "             random_state=42, subsample=1.0, tol=0.0001,\n",
      "             validation_fraction=0.1, verbose=0, warm_start=False)\n"
     ]
    }
   ],
   "source": [
    "# Set hyperparameters for GridSearch\n",
    "param_grid = {\n",
    "    'est__learning_rate': [0.1, 0.05],  # default: 0.1\n",
    "    'est__max_depth': [3, 4, 5],        # default: 3\n",
    "    'est__min_samples_leaf': [1, 3, 5]  # default: 1\n",
    "}\n",
    "\n",
    "# GridSearchCV\n",
    "gs = GridSearchCV(estimator=pipe,\n",
    "                      param_grid=param_grid, scoring='r2', cv=3, verbose=1)\n",
    "\n",
    "# Fit data to model\n",
    "gs = gs.fit(X_train, y_train)\n",
    "print('Best Model: %s' % gs.best_estimator_.named_steps['est'])"
   ]
  },
  {
   "cell_type": "markdown",
   "metadata": {},
   "source": [
    "### Evaluation"
   ]
  },
  {
   "cell_type": "code",
   "execution_count": 58,
   "metadata": {},
   "outputs": [
    {
     "name": "stdout",
     "output_type": "stream",
     "text": [
      "R2 score (Gradient Boosting Regressor, Train Data):0.7565470079058582\n",
      "R2 score (Gradient Boosting Regressor, Test Data):0.6687977692360059\n"
     ]
    }
   ],
   "source": [
    "# Predict on X_train and X_test using Gradient Boosting model\n",
    "y_pred_train = gs.best_estimator_.predict(X_train)\n",
    "y_pred_test = gs.best_estimator_.predict(X_test)\n",
    "r2_score_train = r2_score(y_train, y_pred_train)\n",
    "r2_score_test = r2_score(y_test, y_pred_test)\n",
    "print('R2 score (Gradient Boosting Regressor, Train Data):{}'.format(r2_score_train))\n",
    "print('R2 score (Gradient Boosting Regressor, Test Data):{}'.format(r2_score_test))"
   ]
  },
  {
   "cell_type": "code",
   "execution_count": 59,
   "metadata": {},
   "outputs": [
    {
     "data": {
      "text/plain": [
       "[Text(0, 0.5, 'Predicted Price'), Text(0.5, 0, 'Actual Price')]"
      ]
     },
     "execution_count": 59,
     "metadata": {},
     "output_type": "execute_result"
    },
    {
     "data": {
      "image/png": "[encoded data removed]",
      "text/plain": [
       "<Figure size 1152x432 with 1 Axes>"
      ]
     },
     "metadata": {
      "needs_background": "light"
     },
     "output_type": "display_data"
    }
   ],
   "source": [
    "plt.figure(figsize=(16, 6))\n",
    "ax = sns.regplot(x=y_test, y=y_pred_test, marker=\"+\")\n",
    "ax.set(xlabel='Actual Price', ylabel='Predicted Price')"
   ]
  },
  {
   "cell_type": "code",
   "execution_count": 60,
   "metadata": {},
   "outputs": [
    {
     "data": {
      "image/png": "[encoded data removed]",
      "text/plain": [
       "<Figure size 720x360 with 1 Axes>"
      ]
     },
     "metadata": {
      "needs_background": "light"
     },
     "output_type": "display_data"
    }
   ],
   "source": [
    "# Using the best score model, i.e. Gradient Boosting\n",
    "# Plot feature importance in sort order\n",
    "# Extract estimator from pipe\n",
    "estimator = gs.best_estimator_.named_steps['est']\n",
    "feature_importance = estimator.feature_importances_\n",
    "feature_importance = 100.0 * \\\n",
    "    (feature_importance / feature_importance.max())  # max-scaling\n",
    "sorted_idx = np.argsort(feature_importance)\n",
    "# Extracting top 15 features\n",
    "top_feature_names = X.columns.values[sorted_idx][-15:]\n",
    "top_feature_importance = feature_importance[sorted_idx][-15:]\n",
    "\n",
    "# Plot\n",
    "fig = plt.figure(figsize=(10,5))\n",
    "pos = np.arange(len(top_feature_names))\n",
    "plt.barh(pos, top_feature_importance, align='center')\n",
    "plt.yticks(pos, top_feature_names)\n",
    "plt.xlabel('Feature Importance')\n",
    "plt.title('Feature Importance using Gradient Boosting Regressor')\n",
    "plt.show()\n"
   ]
  },
  {
   "cell_type": "code",
   "execution_count": 61,
   "metadata": {},
   "outputs": [
    {
     "data": {
      "text/html": [
       "<style  type=\"text/css\" >\n",
       "    #T_d5d80812_c77f_11e9_af90_c48e8f7d0e9erow0_col0 {\n",
       "            background-color:  #b40426;\n",
       "        }    #T_d5d80812_c77f_11e9_af90_c48e8f7d0e9erow0_col1 {\n",
       "            background-color:  #aac7fd;\n",
       "        }    #T_d5d80812_c77f_11e9_af90_c48e8f7d0e9erow0_col2 {\n",
       "            background-color:  #eed0c0;\n",
       "        }    #T_d5d80812_c77f_11e9_af90_c48e8f7d0e9erow0_col3 {\n",
       "            background-color:  #f59c7d;\n",
       "        }    #T_d5d80812_c77f_11e9_af90_c48e8f7d0e9erow0_col4 {\n",
       "            background-color:  #c9d7f0;\n",
       "        }    #T_d5d80812_c77f_11e9_af90_c48e8f7d0e9erow0_col5 {\n",
       "            background-color:  #a9c6fd;\n",
       "        }    #T_d5d80812_c77f_11e9_af90_c48e8f7d0e9erow1_col0 {\n",
       "            background-color:  #3d50c3;\n",
       "        }    #T_d5d80812_c77f_11e9_af90_c48e8f7d0e9erow1_col1 {\n",
       "            background-color:  #b40426;\n",
       "        }    #T_d5d80812_c77f_11e9_af90_c48e8f7d0e9erow1_col2 {\n",
       "            background-color:  #98b9ff;\n",
       "        }    #T_d5d80812_c77f_11e9_af90_c48e8f7d0e9erow1_col3 {\n",
       "            background-color:  #6485ec;\n",
       "        }    #T_d5d80812_c77f_11e9_af90_c48e8f7d0e9erow1_col4 {\n",
       "            background-color:  #7b9ff9;\n",
       "        }    #T_d5d80812_c77f_11e9_af90_c48e8f7d0e9erow1_col5 {\n",
       "            background-color:  #3b4cc0;\n",
       "        }    #T_d5d80812_c77f_11e9_af90_c48e8f7d0e9erow2_col0 {\n",
       "            background-color:  #dfdbd9;\n",
       "        }    #T_d5d80812_c77f_11e9_af90_c48e8f7d0e9erow2_col1 {\n",
       "            background-color:  #ccd9ed;\n",
       "        }    #T_d5d80812_c77f_11e9_af90_c48e8f7d0e9erow2_col2 {\n",
       "            background-color:  #b40426;\n",
       "        }    #T_d5d80812_c77f_11e9_af90_c48e8f7d0e9erow2_col3 {\n",
       "            background-color:  #e7d7ce;\n",
       "        }    #T_d5d80812_c77f_11e9_af90_c48e8f7d0e9erow2_col4 {\n",
       "            background-color:  #bcd2f7;\n",
       "        }    #T_d5d80812_c77f_11e9_af90_c48e8f7d0e9erow2_col5 {\n",
       "            background-color:  #82a6fb;\n",
       "        }    #T_d5d80812_c77f_11e9_af90_c48e8f7d0e9erow3_col0 {\n",
       "            background-color:  #f7ac8e;\n",
       "        }    #T_d5d80812_c77f_11e9_af90_c48e8f7d0e9erow3_col1 {\n",
       "            background-color:  #a7c5fe;\n",
       "        }    #T_d5d80812_c77f_11e9_af90_c48e8f7d0e9erow3_col2 {\n",
       "            background-color:  #e8d6cc;\n",
       "        }    #T_d5d80812_c77f_11e9_af90_c48e8f7d0e9erow3_col3 {\n",
       "            background-color:  #b40426;\n",
       "        }    #T_d5d80812_c77f_11e9_af90_c48e8f7d0e9erow3_col4 {\n",
       "            background-color:  #a6c4fe;\n",
       "        }    #T_d5d80812_c77f_11e9_af90_c48e8f7d0e9erow3_col5 {\n",
       "            background-color:  #84a7fc;\n",
       "        }    #T_d5d80812_c77f_11e9_af90_c48e8f7d0e9erow4_col0 {\n",
       "            background-color:  #8fb1fe;\n",
       "        }    #T_d5d80812_c77f_11e9_af90_c48e8f7d0e9erow4_col1 {\n",
       "            background-color:  #9fbfff;\n",
       "        }    #T_d5d80812_c77f_11e9_af90_c48e8f7d0e9erow4_col2 {\n",
       "            background-color:  #a3c2fe;\n",
       "        }    #T_d5d80812_c77f_11e9_af90_c48e8f7d0e9erow4_col3 {\n",
       "            background-color:  #89acfd;\n",
       "        }    #T_d5d80812_c77f_11e9_af90_c48e8f7d0e9erow4_col4 {\n",
       "            background-color:  #b40426;\n",
       "        }    #T_d5d80812_c77f_11e9_af90_c48e8f7d0e9erow4_col5 {\n",
       "            background-color:  #6282ea;\n",
       "        }    #T_d5d80812_c77f_11e9_af90_c48e8f7d0e9erow5_col0 {\n",
       "            background-color:  #3b4cc0;\n",
       "        }    #T_d5d80812_c77f_11e9_af90_c48e8f7d0e9erow5_col1 {\n",
       "            background-color:  #3b4cc0;\n",
       "        }    #T_d5d80812_c77f_11e9_af90_c48e8f7d0e9erow5_col2 {\n",
       "            background-color:  #3b4cc0;\n",
       "        }    #T_d5d80812_c77f_11e9_af90_c48e8f7d0e9erow5_col3 {\n",
       "            background-color:  #3b4cc0;\n",
       "        }    #T_d5d80812_c77f_11e9_af90_c48e8f7d0e9erow5_col4 {\n",
       "            background-color:  #3b4cc0;\n",
       "        }    #T_d5d80812_c77f_11e9_af90_c48e8f7d0e9erow5_col5 {\n",
       "            background-color:  #b40426;\n",
       "        }</style>  \n",
       "<table id=\"T_d5d80812_c77f_11e9_af90_c48e8f7d0e9e\" > \n",
       "<thead>    <tr> \n",
       "        <th class=\"blank level0\" ></th> \n",
       "        <th class=\"col_heading level0 col0\" >accommodates</th> \n",
       "        <th class=\"col_heading level0 col1\" >bathrooms</th> \n",
       "        <th class=\"col_heading level0 col2\" >bedrooms</th> \n",
       "        <th class=\"col_heading level0 col3\" >beds</th> \n",
       "        <th class=\"col_heading level0 col4\" >price</th> \n",
       "        <th class=\"col_heading level0 col5\" >guests_included</th> \n",
       "    </tr></thead> \n",
       "<tbody>    <tr> \n",
       "        <th id=\"T_d5d80812_c77f_11e9_af90_c48e8f7d0e9elevel0_row0\" class=\"row_heading level0 row0\" >accommodates</th> \n",
       "        <td id=\"T_d5d80812_c77f_11e9_af90_c48e8f7d0e9erow0_col0\" class=\"data row0 col0\" >1</td> \n",
       "        <td id=\"T_d5d80812_c77f_11e9_af90_c48e8f7d0e9erow0_col1\" class=\"data row0 col1\" >0.537913</td> \n",
       "        <td id=\"T_d5d80812_c77f_11e9_af90_c48e8f7d0e9erow0_col2\" class=\"data row0 col2\" >0.7706</td> \n",
       "        <td id=\"T_d5d80812_c77f_11e9_af90_c48e8f7d0e9erow0_col3\" class=\"data row0 col3\" >0.861073</td> \n",
       "        <td id=\"T_d5d80812_c77f_11e9_af90_c48e8f7d0e9erow0_col4\" class=\"data row0 col4\" >0.652665</td> \n",
       "        <td id=\"T_d5d80812_c77f_11e9_af90_c48e8f7d0e9erow0_col5\" class=\"data row0 col5\" >0.532704</td> \n",
       "    </tr>    <tr> \n",
       "        <th id=\"T_d5d80812_c77f_11e9_af90_c48e8f7d0e9elevel0_row1\" class=\"row_heading level0 row1\" >bathrooms</th> \n",
       "        <td id=\"T_d5d80812_c77f_11e9_af90_c48e8f7d0e9erow1_col0\" class=\"data row1 col0\" >0.537913</td> \n",
       "        <td id=\"T_d5d80812_c77f_11e9_af90_c48e8f7d0e9erow1_col1\" class=\"data row1 col1\" >1</td> \n",
       "        <td id=\"T_d5d80812_c77f_11e9_af90_c48e8f7d0e9erow1_col2\" class=\"data row1 col2\" >0.61073</td> \n",
       "        <td id=\"T_d5d80812_c77f_11e9_af90_c48e8f7d0e9erow1_col3\" class=\"data row1 col3\" >0.532179</td> \n",
       "        <td id=\"T_d5d80812_c77f_11e9_af90_c48e8f7d0e9erow1_col4\" class=\"data row1 col4\" >0.516296</td> \n",
       "        <td id=\"T_d5d80812_c77f_11e9_af90_c48e8f7d0e9erow1_col5\" class=\"data row1 col5\" >0.304461</td> \n",
       "    </tr>    <tr> \n",
       "        <th id=\"T_d5d80812_c77f_11e9_af90_c48e8f7d0e9elevel0_row2\" class=\"row_heading level0 row2\" >bedrooms</th> \n",
       "        <td id=\"T_d5d80812_c77f_11e9_af90_c48e8f7d0e9erow2_col0\" class=\"data row2 col0\" >0.7706</td> \n",
       "        <td id=\"T_d5d80812_c77f_11e9_af90_c48e8f7d0e9erow2_col1\" class=\"data row2 col1\" >0.61073</td> \n",
       "        <td id=\"T_d5d80812_c77f_11e9_af90_c48e8f7d0e9erow2_col2\" class=\"data row2 col2\" >1</td> \n",
       "        <td id=\"T_d5d80812_c77f_11e9_af90_c48e8f7d0e9erow2_col3\" class=\"data row2 col3\" >0.752963</td> \n",
       "        <td id=\"T_d5d80812_c77f_11e9_af90_c48e8f7d0e9erow2_col4\" class=\"data row2 col4\" >0.628014</td> \n",
       "        <td id=\"T_d5d80812_c77f_11e9_af90_c48e8f7d0e9erow2_col5\" class=\"data row2 col5\" >0.456852</td> \n",
       "    </tr>    <tr> \n",
       "        <th id=\"T_d5d80812_c77f_11e9_af90_c48e8f7d0e9elevel0_row3\" class=\"row_heading level0 row3\" >beds</th> \n",
       "        <td id=\"T_d5d80812_c77f_11e9_af90_c48e8f7d0e9erow3_col0\" class=\"data row3 col0\" >0.861073</td> \n",
       "        <td id=\"T_d5d80812_c77f_11e9_af90_c48e8f7d0e9erow3_col1\" class=\"data row3 col1\" >0.532179</td> \n",
       "        <td id=\"T_d5d80812_c77f_11e9_af90_c48e8f7d0e9erow3_col2\" class=\"data row3 col2\" >0.752963</td> \n",
       "        <td id=\"T_d5d80812_c77f_11e9_af90_c48e8f7d0e9erow3_col3\" class=\"data row3 col3\" >1</td> \n",
       "        <td id=\"T_d5d80812_c77f_11e9_af90_c48e8f7d0e9erow3_col4\" class=\"data row3 col4\" >0.589704</td> \n",
       "        <td id=\"T_d5d80812_c77f_11e9_af90_c48e8f7d0e9erow3_col5\" class=\"data row3 col5\" >0.460396</td> \n",
       "    </tr>    <tr> \n",
       "        <th id=\"T_d5d80812_c77f_11e9_af90_c48e8f7d0e9elevel0_row4\" class=\"row_heading level0 row4\" >price</th> \n",
       "        <td id=\"T_d5d80812_c77f_11e9_af90_c48e8f7d0e9erow4_col0\" class=\"data row4 col0\" >0.652665</td> \n",
       "        <td id=\"T_d5d80812_c77f_11e9_af90_c48e8f7d0e9erow4_col1\" class=\"data row4 col1\" >0.516296</td> \n",
       "        <td id=\"T_d5d80812_c77f_11e9_af90_c48e8f7d0e9erow4_col2\" class=\"data row4 col2\" >0.628014</td> \n",
       "        <td id=\"T_d5d80812_c77f_11e9_af90_c48e8f7d0e9erow4_col3\" class=\"data row4 col3\" >0.589704</td> \n",
       "        <td id=\"T_d5d80812_c77f_11e9_af90_c48e8f7d0e9erow4_col4\" class=\"data row4 col4\" >1</td> \n",
       "        <td id=\"T_d5d80812_c77f_11e9_af90_c48e8f7d0e9erow4_col5\" class=\"data row4 col5\" >0.39315</td> \n",
       "    </tr>    <tr> \n",
       "        <th id=\"T_d5d80812_c77f_11e9_af90_c48e8f7d0e9elevel0_row5\" class=\"row_heading level0 row5\" >guests_included</th> \n",
       "        <td id=\"T_d5d80812_c77f_11e9_af90_c48e8f7d0e9erow5_col0\" class=\"data row5 col0\" >0.532704</td> \n",
       "        <td id=\"T_d5d80812_c77f_11e9_af90_c48e8f7d0e9erow5_col1\" class=\"data row5 col1\" >0.304461</td> \n",
       "        <td id=\"T_d5d80812_c77f_11e9_af90_c48e8f7d0e9erow5_col2\" class=\"data row5 col2\" >0.456852</td> \n",
       "        <td id=\"T_d5d80812_c77f_11e9_af90_c48e8f7d0e9erow5_col3\" class=\"data row5 col3\" >0.460396</td> \n",
       "        <td id=\"T_d5d80812_c77f_11e9_af90_c48e8f7d0e9erow5_col4\" class=\"data row5 col4\" >0.39315</td> \n",
       "        <td id=\"T_d5d80812_c77f_11e9_af90_c48e8f7d0e9erow5_col5\" class=\"data row5 col5\" >1</td> \n",
       "    </tr></tbody> \n",
       "</table> "
      ],
      "text/plain": [
       "<pandas.io.formats.style.Styler at 0x29817a41da0>"
      ]
     },
     "execution_count": 61,
     "metadata": {},
     "output_type": "execute_result"
    }
   ],
   "source": [
    "# Check for correlation with price column to validate findings \n",
    "corr = price_pred_df[['accommodates', 'bathrooms', 'bedrooms', 'beds', 'price', 'guests_included']].corr()\n",
    "\n",
    "corr.style.background_gradient(cmap='coolwarm')"
   ]
  },
  {
   "cell_type": "markdown",
   "metadata": {},
   "source": [
    "**Ans. 3** \n",
    "- The listing price can be predicted using the features in the listing dataset. A Gradient Boosting Regressor model was tuned to get an R2 score of 0.668 on 70:30 train-test split\n",
    "- Per the model, following seem to be the most important features related to the price prediction:\n",
    "    - bedrooms: per the # bedrooms the price is highly corelated\n",
    "    - bathrooms: price also depends on # bathrooms\n",
    "    - accomodates: price is also related with the number of people an house accomodates\n",
    "    - Price is effected by the amenities provided at the facility - pool, elevator etc.\n",
    "    - Room Type and Neighborhood are also important features when it comes to determining price\n",
    "    "
   ]
  }
 ],
 "metadata": {
  "kernelspec": {
   "display_name": "Python 3",
   "language": "python",
   "name": "python3"
  },
  "language_info": {
   "codemirror_mode": {
    "name": "ipython",
    "version": 3
   },
   "file_extension": ".py",
   "mimetype": "text/x-python",
   "name": "python",
   "nbconvert_exporter": "python",
   "pygments_lexer": "ipython3",
   "version": "3.7.3"
  }
 },
 "nbformat": 4,
 "nbformat_minor": 2
}
